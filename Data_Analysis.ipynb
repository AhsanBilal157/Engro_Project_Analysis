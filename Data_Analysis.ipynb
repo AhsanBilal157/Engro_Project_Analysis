{
 "cells": [
  {
   "cell_type": "code",
   "execution_count": 47,
   "id": "842df501",
   "metadata": {},
   "outputs": [
    {
     "name": "stdout",
     "output_type": "stream",
     "text": [
      "(30878, 10)\n"
     ]
    },
    {
     "data": {
      "text/html": [
       "<div>\n",
       "<style scoped>\n",
       "    .dataframe tbody tr th:only-of-type {\n",
       "        vertical-align: middle;\n",
       "    }\n",
       "\n",
       "    .dataframe tbody tr th {\n",
       "        vertical-align: top;\n",
       "    }\n",
       "\n",
       "    .dataframe thead th {\n",
       "        text-align: right;\n",
       "    }\n",
       "</style>\n",
       "<table border=\"1\" class=\"dataframe\">\n",
       "  <thead>\n",
       "    <tr style=\"text-align: right;\">\n",
       "      <th></th>\n",
       "      <th>Date/Time of Report: 3/16/2025 16:22:34</th>\n",
       "      <th>Unnamed: 1</th>\n",
       "      <th>Unnamed: 2</th>\n",
       "      <th>Unnamed: 3</th>\n",
       "      <th>Unnamed: 4</th>\n",
       "      <th>Unnamed: 5</th>\n",
       "      <th>Unnamed: 6</th>\n",
       "      <th>Unnamed: 7</th>\n",
       "      <th>Unnamed: 8</th>\n",
       "      <th>Unnamed: 9</th>\n",
       "    </tr>\n",
       "  </thead>\n",
       "  <tbody>\n",
       "    <tr>\n",
       "      <th>0</th>\n",
       "      <td>Requester: CSTN01-1 - Oper</td>\n",
       "      <td>NaN</td>\n",
       "      <td>NaN</td>\n",
       "      <td>NaN</td>\n",
       "      <td>NaN</td>\n",
       "      <td>NaN</td>\n",
       "      <td>NaN</td>\n",
       "      <td>NaN</td>\n",
       "      <td>NaN</td>\n",
       "      <td>NaN</td>\n",
       "    </tr>\n",
       "    <tr>\n",
       "      <th>1</th>\n",
       "      <td>Filter Applied: Event Time: Live</td>\n",
       "      <td>NaN</td>\n",
       "      <td>NaN</td>\n",
       "      <td>NaN</td>\n",
       "      <td>NaN</td>\n",
       "      <td>NaN</td>\n",
       "      <td>NaN</td>\n",
       "      <td>NaN</td>\n",
       "      <td>NaN</td>\n",
       "      <td>NaN</td>\n",
       "    </tr>\n",
       "    <tr>\n",
       "      <th>2</th>\n",
       "      <td>Sort Criteria:</td>\n",
       "      <td>NaN</td>\n",
       "      <td>NaN</td>\n",
       "      <td>NaN</td>\n",
       "      <td>NaN</td>\n",
       "      <td>NaN</td>\n",
       "      <td>NaN</td>\n",
       "      <td>NaN</td>\n",
       "      <td>NaN</td>\n",
       "      <td>NaN</td>\n",
       "    </tr>\n",
       "    <tr>\n",
       "      <th>3</th>\n",
       "      <td>Server: ESV-01B</td>\n",
       "      <td>NaN</td>\n",
       "      <td>NaN</td>\n",
       "      <td>NaN</td>\n",
       "      <td>NaN</td>\n",
       "      <td>NaN</td>\n",
       "      <td>NaN</td>\n",
       "      <td>NaN</td>\n",
       "      <td>NaN</td>\n",
       "      <td>NaN</td>\n",
       "    </tr>\n",
       "    <tr>\n",
       "      <th>4</th>\n",
       "      <td>Tip: to see the full time in Excel, use a cust...</td>\n",
       "      <td>NaN</td>\n",
       "      <td>NaN</td>\n",
       "      <td>NaN</td>\n",
       "      <td>NaN</td>\n",
       "      <td>NaN</td>\n",
       "      <td>NaN</td>\n",
       "      <td>NaN</td>\n",
       "      <td>NaN</td>\n",
       "      <td>NaN</td>\n",
       "    </tr>\n",
       "    <tr>\n",
       "      <th>...</th>\n",
       "      <td>...</td>\n",
       "      <td>...</td>\n",
       "      <td>...</td>\n",
       "      <td>...</td>\n",
       "      <td>...</td>\n",
       "      <td>...</td>\n",
       "      <td>...</td>\n",
       "      <td>...</td>\n",
       "      <td>...</td>\n",
       "      <td>...</td>\n",
       "    </tr>\n",
       "    <tr>\n",
       "      <th>30873</th>\n",
       "      <td>3/14/2025 9:37:10.800</td>\n",
       "      <td>01</td>\n",
       "      <td>$ACTIVITY_330413F2352AB609</td>\n",
       "      <td>Formula</td>\n",
       "      <td>NaN</td>\n",
       "      <td>J 00</td>\n",
       "      <td>DATA;$330013f2289579af-0006</td>\n",
       "      <td>NaN</td>\n",
       "      <td>MIN</td>\n",
       "      <td>NaN</td>\n",
       "    </tr>\n",
       "    <tr>\n",
       "      <th>30874</th>\n",
       "      <td>3/14/2025 9:37:10.700</td>\n",
       "      <td>01</td>\n",
       "      <td>$ACTIVITY_330413F2352AB609</td>\n",
       "      <td>Formula</td>\n",
       "      <td>NaN</td>\n",
       "      <td>J 00</td>\n",
       "      <td>DATA;$330013f2289579af-0006</td>\n",
       "      <td>NaN</td>\n",
       "      <td>M3/H</td>\n",
       "      <td>NaN</td>\n",
       "    </tr>\n",
       "    <tr>\n",
       "      <th>30875</th>\n",
       "      <td>3/14/2025 9:37:10.600</td>\n",
       "      <td>01</td>\n",
       "      <td>$ACTIVITY_330413F2352AB609</td>\n",
       "      <td>Formula</td>\n",
       "      <td>NaN</td>\n",
       "      <td>J 00</td>\n",
       "      <td>DATA;$330013f2289579af-0006</td>\n",
       "      <td>NaN</td>\n",
       "      <td>MIN</td>\n",
       "      <td>NaN</td>\n",
       "    </tr>\n",
       "    <tr>\n",
       "      <th>30876</th>\n",
       "      <td>3/14/2025 9:37:10.600</td>\n",
       "      <td>01</td>\n",
       "      <td>$ACTIVITY_330413F2352AB609</td>\n",
       "      <td>Formula</td>\n",
       "      <td>NaN</td>\n",
       "      <td>J 00</td>\n",
       "      <td>DATA;$330013f2289579af-0006</td>\n",
       "      <td>NaN</td>\n",
       "      <td>M3/H</td>\n",
       "      <td>NaN</td>\n",
       "    </tr>\n",
       "    <tr>\n",
       "      <th>30877</th>\n",
       "      <td>3/14/2025 9:37:10.500</td>\n",
       "      <td>01</td>\n",
       "      <td>$ACTIVITY_330413F2352AB609</td>\n",
       "      <td>Formula</td>\n",
       "      <td>NaN</td>\n",
       "      <td>J 00</td>\n",
       "      <td>DATA;$330013f2289579af-0006</td>\n",
       "      <td>NaN</td>\n",
       "      <td>MIN</td>\n",
       "      <td>NaN</td>\n",
       "    </tr>\n",
       "  </tbody>\n",
       "</table>\n",
       "<p>30878 rows × 10 columns</p>\n",
       "</div>"
      ],
      "text/plain": [
       "                 Date/Time of Report: 3/16/2025 16:22:34 Unnamed: 1  \\\n",
       "0                             Requester: CSTN01-1 - Oper        NaN   \n",
       "1                       Filter Applied: Event Time: Live        NaN   \n",
       "2                                        Sort Criteria:         NaN   \n",
       "3                                        Server: ESV-01B        NaN   \n",
       "4      Tip: to see the full time in Excel, use a cust...        NaN   \n",
       "...                                                  ...        ...   \n",
       "30873                              3/14/2025 9:37:10.800         01   \n",
       "30874                              3/14/2025 9:37:10.700         01   \n",
       "30875                              3/14/2025 9:37:10.600         01   \n",
       "30876                              3/14/2025 9:37:10.600         01   \n",
       "30877                              3/14/2025 9:37:10.500         01   \n",
       "\n",
       "                       Unnamed: 2 Unnamed: 3 Unnamed: 4 Unnamed: 5  \\\n",
       "0                             NaN        NaN        NaN        NaN   \n",
       "1                             NaN        NaN        NaN        NaN   \n",
       "2                             NaN        NaN        NaN        NaN   \n",
       "3                             NaN        NaN        NaN        NaN   \n",
       "4                             NaN        NaN        NaN        NaN   \n",
       "...                           ...        ...        ...        ...   \n",
       "30873  $ACTIVITY_330413F2352AB609    Formula        NaN       J 00   \n",
       "30874  $ACTIVITY_330413F2352AB609    Formula        NaN       J 00   \n",
       "30875  $ACTIVITY_330413F2352AB609    Formula        NaN       J 00   \n",
       "30876  $ACTIVITY_330413F2352AB609    Formula        NaN       J 00   \n",
       "30877  $ACTIVITY_330413F2352AB609    Formula        NaN       J 00   \n",
       "\n",
       "                        Unnamed: 6 Unnamed: 7 Unnamed: 8  Unnamed: 9  \n",
       "0                              NaN        NaN        NaN         NaN  \n",
       "1                              NaN        NaN        NaN         NaN  \n",
       "2                              NaN        NaN        NaN         NaN  \n",
       "3                              NaN        NaN        NaN         NaN  \n",
       "4                              NaN        NaN        NaN         NaN  \n",
       "...                            ...        ...        ...         ...  \n",
       "30873  DATA;$330013f2289579af-0006        NaN        MIN         NaN  \n",
       "30874  DATA;$330013f2289579af-0006        NaN       M3/H         NaN  \n",
       "30875  DATA;$330013f2289579af-0006        NaN        MIN         NaN  \n",
       "30876  DATA;$330013f2289579af-0006        NaN       M3/H         NaN  \n",
       "30877  DATA;$330013f2289579af-0006        NaN        MIN         NaN  \n",
       "\n",
       "[30878 rows x 10 columns]"
      ]
     },
     "execution_count": 47,
     "metadata": {},
     "output_type": "execute_result"
    }
   ],
   "source": [
    "import pandas as pd\n",
    "\n",
    "data = pd.read_csv(\"./PVC-I (Jan, Feb, Mar) EVENTS/21jan.csv\", on_bad_lines='skip')\n",
    "print(data.shape)\n",
    "data\n"
   ]
  },
  {
   "cell_type": "code",
   "execution_count": 48,
   "id": "c3eca920-4314-4661-ba2d-5711ba311bb5",
   "metadata": {},
   "outputs": [
    {
     "data": {
      "text/html": [
       "<div>\n",
       "<style scoped>\n",
       "    .dataframe tbody tr th:only-of-type {\n",
       "        vertical-align: middle;\n",
       "    }\n",
       "\n",
       "    .dataframe tbody tr th {\n",
       "        vertical-align: top;\n",
       "    }\n",
       "\n",
       "    .dataframe thead th {\n",
       "        text-align: right;\n",
       "    }\n",
       "</style>\n",
       "<table border=\"1\" class=\"dataframe\">\n",
       "  <thead>\n",
       "    <tr style=\"text-align: right;\">\n",
       "      <th></th>\n",
       "      <th>Date/Time of Report: 3/16/2025 16:22:34</th>\n",
       "      <th>Unnamed: 1</th>\n",
       "      <th>Unnamed: 2</th>\n",
       "      <th>Unnamed: 3</th>\n",
       "      <th>Unnamed: 4</th>\n",
       "      <th>Unnamed: 5</th>\n",
       "      <th>Unnamed: 6</th>\n",
       "      <th>Unnamed: 7</th>\n",
       "      <th>Unnamed: 8</th>\n",
       "      <th>Unnamed: 9</th>\n",
       "    </tr>\n",
       "  </thead>\n",
       "  <tbody>\n",
       "    <tr>\n",
       "      <th>7</th>\n",
       "      <td>Event Time</td>\n",
       "      <td>Location Tag</td>\n",
       "      <td>Source</td>\n",
       "      <td>Condition</td>\n",
       "      <td>Action</td>\n",
       "      <td>Priority</td>\n",
       "      <td>Description</td>\n",
       "      <td>Value</td>\n",
       "      <td>Units</td>\n",
       "      <td>NaN</td>\n",
       "    </tr>\n",
       "    <tr>\n",
       "      <th>8</th>\n",
       "      <td>3/16/2025 16:22:34.587</td>\n",
       "      <td>SERVER_PVC</td>\n",
       "      <td>NaN</td>\n",
       "      <td>Demand</td>\n",
       "      <td>NaN</td>\n",
       "      <td>NaN</td>\n",
       "      <td>CSV export in progress...</td>\n",
       "      <td>NaN</td>\n",
       "      <td>NaN</td>\n",
       "      <td>NaN</td>\n",
       "    </tr>\n",
       "    <tr>\n",
       "      <th>9</th>\n",
       "      <td>3/16/2025 16:22:14.211</td>\n",
       "      <td>1500</td>\n",
       "      <td>FQC1504</td>\n",
       "      <td>CHANGE</td>\n",
       "      <td>NaN</td>\n",
       "      <td>NaN</td>\n",
       "      <td>pida.mode</td>\n",
       "      <td>NORMAL</td>\n",
       "      <td>NaN</td>\n",
       "      <td>NaN</td>\n",
       "    </tr>\n",
       "    <tr>\n",
       "      <th>10</th>\n",
       "      <td>3/16/2025 16:22:13.185</td>\n",
       "      <td>1500</td>\n",
       "      <td>FQC1504</td>\n",
       "      <td>CHANGE</td>\n",
       "      <td>NaN</td>\n",
       "      <td>NaN</td>\n",
       "      <td>pida.sp</td>\n",
       "      <td>0</td>\n",
       "      <td>kg/h</td>\n",
       "      <td>NaN</td>\n",
       "    </tr>\n",
       "    <tr>\n",
       "      <th>11</th>\n",
       "      <td>3/16/2025 16:22:11.318</td>\n",
       "      <td>1500</td>\n",
       "      <td>FQC1504</td>\n",
       "      <td>CHANGE</td>\n",
       "      <td>NaN</td>\n",
       "      <td>NaN</td>\n",
       "      <td>pida.mode</td>\n",
       "      <td>AUTO</td>\n",
       "      <td>NaN</td>\n",
       "      <td>NaN</td>\n",
       "    </tr>\n",
       "    <tr>\n",
       "      <th>...</th>\n",
       "      <td>...</td>\n",
       "      <td>...</td>\n",
       "      <td>...</td>\n",
       "      <td>...</td>\n",
       "      <td>...</td>\n",
       "      <td>...</td>\n",
       "      <td>...</td>\n",
       "      <td>...</td>\n",
       "      <td>...</td>\n",
       "      <td>...</td>\n",
       "    </tr>\n",
       "    <tr>\n",
       "      <th>95</th>\n",
       "      <td>3/16/2025 16:17:50.100</td>\n",
       "      <td>01</td>\n",
       "      <td>$ACTIVITY_330413F2352AB609</td>\n",
       "      <td>Formula</td>\n",
       "      <td>NaN</td>\n",
       "      <td>J 00</td>\n",
       "      <td>DATA;$330013f229de7ede-0006</td>\n",
       "      <td>NaN</td>\n",
       "      <td>MIN</td>\n",
       "      <td>NaN</td>\n",
       "    </tr>\n",
       "    <tr>\n",
       "      <th>96</th>\n",
       "      <td>3/16/2025 16:17:50.100</td>\n",
       "      <td>01</td>\n",
       "      <td>$ACTIVITY_330413F2352AB609</td>\n",
       "      <td>Formula</td>\n",
       "      <td>NaN</td>\n",
       "      <td>J 00</td>\n",
       "      <td>DATA;$330013f229de7ede-0006</td>\n",
       "      <td>NaN</td>\n",
       "      <td>%</td>\n",
       "      <td>NaN</td>\n",
       "    </tr>\n",
       "    <tr>\n",
       "      <th>97</th>\n",
       "      <td>3/16/2025 16:17:50.000</td>\n",
       "      <td>01</td>\n",
       "      <td>$ACTIVITY_330413F2352AB609</td>\n",
       "      <td>Formula</td>\n",
       "      <td>NaN</td>\n",
       "      <td>J 00</td>\n",
       "      <td>DATA;$330013f229de7ede-0006</td>\n",
       "      <td>NaN</td>\n",
       "      <td>NaN</td>\n",
       "      <td>NaN</td>\n",
       "    </tr>\n",
       "    <tr>\n",
       "      <th>98</th>\n",
       "      <td>3/16/2025 16:17:50.000</td>\n",
       "      <td>01</td>\n",
       "      <td>$ACTIVITY_330413F2352AB609</td>\n",
       "      <td>Formula</td>\n",
       "      <td>NaN</td>\n",
       "      <td>J 00</td>\n",
       "      <td>DATA;$330013f229de7ede-0006</td>\n",
       "      <td>NaN</td>\n",
       "      <td>MIN</td>\n",
       "      <td>NaN</td>\n",
       "    </tr>\n",
       "    <tr>\n",
       "      <th>99</th>\n",
       "      <td>3/16/2025 16:17:50.000</td>\n",
       "      <td>01</td>\n",
       "      <td>$ACTIVITY_330413F2352AB609</td>\n",
       "      <td>Formula</td>\n",
       "      <td>NaN</td>\n",
       "      <td>J 00</td>\n",
       "      <td>DATA;$330013f229de7ede-0006</td>\n",
       "      <td>NaN</td>\n",
       "      <td>MIN</td>\n",
       "      <td>NaN</td>\n",
       "    </tr>\n",
       "  </tbody>\n",
       "</table>\n",
       "<p>93 rows × 10 columns</p>\n",
       "</div>"
      ],
      "text/plain": [
       "   Date/Time of Report: 3/16/2025 16:22:34    Unnamed: 1  \\\n",
       "7                               Event Time  Location Tag   \n",
       "8                   3/16/2025 16:22:34.587    SERVER_PVC   \n",
       "9                   3/16/2025 16:22:14.211          1500   \n",
       "10                  3/16/2025 16:22:13.185          1500   \n",
       "11                  3/16/2025 16:22:11.318          1500   \n",
       "..                                     ...           ...   \n",
       "95                  3/16/2025 16:17:50.100            01   \n",
       "96                  3/16/2025 16:17:50.100            01   \n",
       "97                  3/16/2025 16:17:50.000            01   \n",
       "98                  3/16/2025 16:17:50.000            01   \n",
       "99                  3/16/2025 16:17:50.000            01   \n",
       "\n",
       "                    Unnamed: 2 Unnamed: 3 Unnamed: 4 Unnamed: 5  \\\n",
       "7                       Source  Condition     Action   Priority   \n",
       "8                          NaN     Demand        NaN        NaN   \n",
       "9                      FQC1504     CHANGE        NaN        NaN   \n",
       "10                     FQC1504     CHANGE        NaN        NaN   \n",
       "11                     FQC1504     CHANGE        NaN        NaN   \n",
       "..                         ...        ...        ...        ...   \n",
       "95  $ACTIVITY_330413F2352AB609    Formula        NaN       J 00   \n",
       "96  $ACTIVITY_330413F2352AB609    Formula        NaN       J 00   \n",
       "97  $ACTIVITY_330413F2352AB609    Formula        NaN       J 00   \n",
       "98  $ACTIVITY_330413F2352AB609    Formula        NaN       J 00   \n",
       "99  $ACTIVITY_330413F2352AB609    Formula        NaN       J 00   \n",
       "\n",
       "                     Unnamed: 6 Unnamed: 7 Unnamed: 8  Unnamed: 9  \n",
       "7                   Description      Value      Units         NaN  \n",
       "8     CSV export in progress...        NaN        NaN         NaN  \n",
       "9                     pida.mode     NORMAL        NaN         NaN  \n",
       "10                      pida.sp          0       kg/h         NaN  \n",
       "11                    pida.mode       AUTO        NaN         NaN  \n",
       "..                          ...        ...        ...         ...  \n",
       "95  DATA;$330013f229de7ede-0006        NaN        MIN         NaN  \n",
       "96  DATA;$330013f229de7ede-0006        NaN          %         NaN  \n",
       "97  DATA;$330013f229de7ede-0006        NaN        NaN         NaN  \n",
       "98  DATA;$330013f229de7ede-0006        NaN        MIN         NaN  \n",
       "99  DATA;$330013f229de7ede-0006        NaN        MIN         NaN  \n",
       "\n",
       "[93 rows x 10 columns]"
      ]
     },
     "execution_count": 48,
     "metadata": {},
     "output_type": "execute_result"
    }
   ],
   "source": [
    "data[7:100]"
   ]
  },
  {
   "cell_type": "code",
   "execution_count": null,
   "id": "cbf7074a-61b3-4636-9af8-017dba74efcb",
   "metadata": {},
   "outputs": [],
   "source": []
  },
  {
   "cell_type": "code",
   "execution_count": 27,
   "id": "bf5b9a60-2c08-4280-947a-a1728237c8b6",
   "metadata": {},
   "outputs": [
    {
     "name": "stdout",
     "output_type": "stream",
     "text": [
      "              Unnamed: 0    Unnamed: 1 Unnamed: 2  \\\n",
      "0             Event Time  Location Tag     Source   \n",
      "1  2/1/2025 23:59:13.104          8800    PIC8808   \n",
      "2  2/1/2025 23:58:40.313          8800    PIC8808   \n",
      "3  2/1/2025 23:58:26.196          8800    PIC8808   \n",
      "4  2/1/2025 23:58:23.521          8800    PIC8808   \n",
      "5  2/1/2025 23:57:55.465    IOLINK01_1   AIOR-103   \n",
      "6  2/1/2025 23:57:42.150          8800     TI8808   \n",
      "7  2/1/2025 23:57:42.150          8800     TI8808   \n",
      "8  2/1/2025 23:57:38.385          8100    AI_PH10   \n",
      "9  2/1/2025 23:56:54.100          8100    AI_PH10   \n",
      "\n",
      "                      Unnamed: 3 Unnamed: 4 Unnamed: 5  \\\n",
      "0                      Condition     Action   Priority   \n",
      "1                         CHANGE        NaN        NaN   \n",
      "2                         CHANGE        NaN        NaN   \n",
      "3                         CHANGE        NaN        NaN   \n",
      "4                         CHANGE        NaN        NaN   \n",
      "5  OP Fail in circuit/field wire        ACK        NaN   \n",
      "6                          ALARM    ACK PNT        NaN   \n",
      "7                          PVLOW        ACK        NaN   \n",
      "8                         PVHIHI        ACK        NaN   \n",
      "9                         PVHIHI        NaN       H 00   \n",
      "\n",
      "                 Unnamed: 6 Unnamed: 7 Unnamed: 8  \n",
      "0               Description      Value      Units  \n",
      "1                   pida.op         20          %  \n",
      "2                   pida.op         10          %  \n",
      "3                   pida.op          0          %  \n",
      "4                 pida.mode        MAN        NaN  \n",
      "5                       NaN        NaN        NaN  \n",
      "6                 DEAERATOR        NaN        NaN  \n",
      "7                 DEAERATOR        NaN        NaN  \n",
      "8  EFFULUENT CHANEL OLD W/S        NaN        NaN  \n",
      "9  EFFULUENT CHANEL OLD W/S    8.93968         pH  \n"
     ]
    }
   ],
   "source": [
    "import pandas as pd\n",
    "\n",
    "# Skip the first 6 rows, and let pandas use row 7 as the header\n",
    "data = pd.read_csv(\"./PVC-I (Jan, Feb, Mar) EVENTS/01feb.csv\", skiprows=7, on_bad_lines='skip')\n",
    "\n",
    "# Display first few rows\n",
    "print(data.head(10))\n"
   ]
  },
  {
   "cell_type": "code",
   "execution_count": null,
   "id": "c1c18d5f-2558-4ec8-ab72-b84ec9346381",
   "metadata": {},
   "outputs": [],
   "source": []
  },
  {
   "cell_type": "code",
   "execution_count": 28,
   "id": "93fd4218-b4b4-40b4-9ddb-367ab8e36b0d",
   "metadata": {},
   "outputs": [
    {
     "data": {
      "text/html": [
       "<div>\n",
       "<style scoped>\n",
       "    .dataframe tbody tr th:only-of-type {\n",
       "        vertical-align: middle;\n",
       "    }\n",
       "\n",
       "    .dataframe tbody tr th {\n",
       "        vertical-align: top;\n",
       "    }\n",
       "\n",
       "    .dataframe thead th {\n",
       "        text-align: right;\n",
       "    }\n",
       "</style>\n",
       "<table border=\"1\" class=\"dataframe\">\n",
       "  <thead>\n",
       "    <tr style=\"text-align: right;\">\n",
       "      <th></th>\n",
       "      <th>Unnamed: 0</th>\n",
       "      <th>Unnamed: 1</th>\n",
       "      <th>Unnamed: 2</th>\n",
       "      <th>Unnamed: 3</th>\n",
       "      <th>Unnamed: 4</th>\n",
       "      <th>Unnamed: 5</th>\n",
       "      <th>Unnamed: 6</th>\n",
       "      <th>Unnamed: 7</th>\n",
       "      <th>Unnamed: 8</th>\n",
       "    </tr>\n",
       "  </thead>\n",
       "  <tbody>\n",
       "    <tr>\n",
       "      <th>0</th>\n",
       "      <td>Event Time</td>\n",
       "      <td>Location Tag</td>\n",
       "      <td>Source</td>\n",
       "      <td>Condition</td>\n",
       "      <td>Action</td>\n",
       "      <td>Priority</td>\n",
       "      <td>Description</td>\n",
       "      <td>Value</td>\n",
       "      <td>Units</td>\n",
       "    </tr>\n",
       "    <tr>\n",
       "      <th>1</th>\n",
       "      <td>2/1/2025 23:59:13.104</td>\n",
       "      <td>8800</td>\n",
       "      <td>PIC8808</td>\n",
       "      <td>CHANGE</td>\n",
       "      <td>NaN</td>\n",
       "      <td>NaN</td>\n",
       "      <td>pida.op</td>\n",
       "      <td>20</td>\n",
       "      <td>%</td>\n",
       "    </tr>\n",
       "    <tr>\n",
       "      <th>2</th>\n",
       "      <td>2/1/2025 23:58:40.313</td>\n",
       "      <td>8800</td>\n",
       "      <td>PIC8808</td>\n",
       "      <td>CHANGE</td>\n",
       "      <td>NaN</td>\n",
       "      <td>NaN</td>\n",
       "      <td>pida.op</td>\n",
       "      <td>10</td>\n",
       "      <td>%</td>\n",
       "    </tr>\n",
       "    <tr>\n",
       "      <th>3</th>\n",
       "      <td>2/1/2025 23:58:26.196</td>\n",
       "      <td>8800</td>\n",
       "      <td>PIC8808</td>\n",
       "      <td>CHANGE</td>\n",
       "      <td>NaN</td>\n",
       "      <td>NaN</td>\n",
       "      <td>pida.op</td>\n",
       "      <td>0</td>\n",
       "      <td>%</td>\n",
       "    </tr>\n",
       "    <tr>\n",
       "      <th>4</th>\n",
       "      <td>2/1/2025 23:58:23.521</td>\n",
       "      <td>8800</td>\n",
       "      <td>PIC8808</td>\n",
       "      <td>CHANGE</td>\n",
       "      <td>NaN</td>\n",
       "      <td>NaN</td>\n",
       "      <td>pida.mode</td>\n",
       "      <td>MAN</td>\n",
       "      <td>NaN</td>\n",
       "    </tr>\n",
       "    <tr>\n",
       "      <th>5</th>\n",
       "      <td>2/1/2025 23:57:55.465</td>\n",
       "      <td>IOLINK01_1</td>\n",
       "      <td>AIOR-103</td>\n",
       "      <td>OP Fail in circuit/field wire</td>\n",
       "      <td>ACK</td>\n",
       "      <td>NaN</td>\n",
       "      <td>NaN</td>\n",
       "      <td>NaN</td>\n",
       "      <td>NaN</td>\n",
       "    </tr>\n",
       "    <tr>\n",
       "      <th>6</th>\n",
       "      <td>2/1/2025 23:57:42.150</td>\n",
       "      <td>8800</td>\n",
       "      <td>TI8808</td>\n",
       "      <td>ALARM</td>\n",
       "      <td>ACK PNT</td>\n",
       "      <td>NaN</td>\n",
       "      <td>DEAERATOR</td>\n",
       "      <td>NaN</td>\n",
       "      <td>NaN</td>\n",
       "    </tr>\n",
       "    <tr>\n",
       "      <th>7</th>\n",
       "      <td>2/1/2025 23:57:42.150</td>\n",
       "      <td>8800</td>\n",
       "      <td>TI8808</td>\n",
       "      <td>PVLOW</td>\n",
       "      <td>ACK</td>\n",
       "      <td>NaN</td>\n",
       "      <td>DEAERATOR</td>\n",
       "      <td>NaN</td>\n",
       "      <td>NaN</td>\n",
       "    </tr>\n",
       "    <tr>\n",
       "      <th>8</th>\n",
       "      <td>2/1/2025 23:57:38.385</td>\n",
       "      <td>8100</td>\n",
       "      <td>AI_PH10</td>\n",
       "      <td>PVHIHI</td>\n",
       "      <td>ACK</td>\n",
       "      <td>NaN</td>\n",
       "      <td>EFFULUENT CHANEL OLD W/S</td>\n",
       "      <td>NaN</td>\n",
       "      <td>NaN</td>\n",
       "    </tr>\n",
       "    <tr>\n",
       "      <th>9</th>\n",
       "      <td>2/1/2025 23:56:54.100</td>\n",
       "      <td>8100</td>\n",
       "      <td>AI_PH10</td>\n",
       "      <td>PVHIHI</td>\n",
       "      <td>NaN</td>\n",
       "      <td>H 00</td>\n",
       "      <td>EFFULUENT CHANEL OLD W/S</td>\n",
       "      <td>8.93968</td>\n",
       "      <td>pH</td>\n",
       "    </tr>\n",
       "  </tbody>\n",
       "</table>\n",
       "</div>"
      ],
      "text/plain": [
       "              Unnamed: 0    Unnamed: 1 Unnamed: 2  \\\n",
       "0             Event Time  Location Tag     Source   \n",
       "1  2/1/2025 23:59:13.104          8800    PIC8808   \n",
       "2  2/1/2025 23:58:40.313          8800    PIC8808   \n",
       "3  2/1/2025 23:58:26.196          8800    PIC8808   \n",
       "4  2/1/2025 23:58:23.521          8800    PIC8808   \n",
       "5  2/1/2025 23:57:55.465    IOLINK01_1   AIOR-103   \n",
       "6  2/1/2025 23:57:42.150          8800     TI8808   \n",
       "7  2/1/2025 23:57:42.150          8800     TI8808   \n",
       "8  2/1/2025 23:57:38.385          8100    AI_PH10   \n",
       "9  2/1/2025 23:56:54.100          8100    AI_PH10   \n",
       "\n",
       "                      Unnamed: 3 Unnamed: 4 Unnamed: 5  \\\n",
       "0                      Condition     Action   Priority   \n",
       "1                         CHANGE        NaN        NaN   \n",
       "2                         CHANGE        NaN        NaN   \n",
       "3                         CHANGE        NaN        NaN   \n",
       "4                         CHANGE        NaN        NaN   \n",
       "5  OP Fail in circuit/field wire        ACK        NaN   \n",
       "6                          ALARM    ACK PNT        NaN   \n",
       "7                          PVLOW        ACK        NaN   \n",
       "8                         PVHIHI        ACK        NaN   \n",
       "9                         PVHIHI        NaN       H 00   \n",
       "\n",
       "                 Unnamed: 6 Unnamed: 7 Unnamed: 8  \n",
       "0               Description      Value      Units  \n",
       "1                   pida.op         20          %  \n",
       "2                   pida.op         10          %  \n",
       "3                   pida.op          0          %  \n",
       "4                 pida.mode        MAN        NaN  \n",
       "5                       NaN        NaN        NaN  \n",
       "6                 DEAERATOR        NaN        NaN  \n",
       "7                 DEAERATOR        NaN        NaN  \n",
       "8  EFFULUENT CHANEL OLD W/S        NaN        NaN  \n",
       "9  EFFULUENT CHANEL OLD W/S    8.93968         pH  "
      ]
     },
     "execution_count": 28,
     "metadata": {},
     "output_type": "execute_result"
    }
   ],
   "source": []
  },
  {
   "cell_type": "code",
   "execution_count": 29,
   "id": "18890ecc",
   "metadata": {},
   "outputs": [],
   "source": [
    "data.columns = [\n",
    "    \"Event Time\", \"Location Tag\", \"Source\", \"Condition\", \"Action\",\n",
    "    \"Priority\", \"Description\", \"Value\", \"Units\"\n",
    "]\n"
   ]
  },
  {
   "cell_type": "code",
   "execution_count": 30,
   "id": "8c25acab-0a4f-4c13-8c5e-47319b720642",
   "metadata": {},
   "outputs": [
    {
     "data": {
      "text/html": [
       "<div>\n",
       "<style scoped>\n",
       "    .dataframe tbody tr th:only-of-type {\n",
       "        vertical-align: middle;\n",
       "    }\n",
       "\n",
       "    .dataframe tbody tr th {\n",
       "        vertical-align: top;\n",
       "    }\n",
       "\n",
       "    .dataframe thead th {\n",
       "        text-align: right;\n",
       "    }\n",
       "</style>\n",
       "<table border=\"1\" class=\"dataframe\">\n",
       "  <thead>\n",
       "    <tr style=\"text-align: right;\">\n",
       "      <th></th>\n",
       "      <th>Event Time</th>\n",
       "      <th>Location Tag</th>\n",
       "      <th>Source</th>\n",
       "      <th>Condition</th>\n",
       "      <th>Action</th>\n",
       "      <th>Priority</th>\n",
       "      <th>Description</th>\n",
       "      <th>Value</th>\n",
       "      <th>Units</th>\n",
       "    </tr>\n",
       "  </thead>\n",
       "  <tbody>\n",
       "    <tr>\n",
       "      <th>0</th>\n",
       "      <td>Event Time</td>\n",
       "      <td>Location Tag</td>\n",
       "      <td>Source</td>\n",
       "      <td>Condition</td>\n",
       "      <td>Action</td>\n",
       "      <td>Priority</td>\n",
       "      <td>Description</td>\n",
       "      <td>Value</td>\n",
       "      <td>Units</td>\n",
       "    </tr>\n",
       "    <tr>\n",
       "      <th>1</th>\n",
       "      <td>2/1/2025 23:59:13.104</td>\n",
       "      <td>8800</td>\n",
       "      <td>PIC8808</td>\n",
       "      <td>CHANGE</td>\n",
       "      <td>NaN</td>\n",
       "      <td>NaN</td>\n",
       "      <td>pida.op</td>\n",
       "      <td>20</td>\n",
       "      <td>%</td>\n",
       "    </tr>\n",
       "    <tr>\n",
       "      <th>2</th>\n",
       "      <td>2/1/2025 23:58:40.313</td>\n",
       "      <td>8800</td>\n",
       "      <td>PIC8808</td>\n",
       "      <td>CHANGE</td>\n",
       "      <td>NaN</td>\n",
       "      <td>NaN</td>\n",
       "      <td>pida.op</td>\n",
       "      <td>10</td>\n",
       "      <td>%</td>\n",
       "    </tr>\n",
       "    <tr>\n",
       "      <th>3</th>\n",
       "      <td>2/1/2025 23:58:26.196</td>\n",
       "      <td>8800</td>\n",
       "      <td>PIC8808</td>\n",
       "      <td>CHANGE</td>\n",
       "      <td>NaN</td>\n",
       "      <td>NaN</td>\n",
       "      <td>pida.op</td>\n",
       "      <td>0</td>\n",
       "      <td>%</td>\n",
       "    </tr>\n",
       "    <tr>\n",
       "      <th>4</th>\n",
       "      <td>2/1/2025 23:58:23.521</td>\n",
       "      <td>8800</td>\n",
       "      <td>PIC8808</td>\n",
       "      <td>CHANGE</td>\n",
       "      <td>NaN</td>\n",
       "      <td>NaN</td>\n",
       "      <td>pida.mode</td>\n",
       "      <td>MAN</td>\n",
       "      <td>NaN</td>\n",
       "    </tr>\n",
       "    <tr>\n",
       "      <th>5</th>\n",
       "      <td>2/1/2025 23:57:55.465</td>\n",
       "      <td>IOLINK01_1</td>\n",
       "      <td>AIOR-103</td>\n",
       "      <td>OP Fail in circuit/field wire</td>\n",
       "      <td>ACK</td>\n",
       "      <td>NaN</td>\n",
       "      <td>NaN</td>\n",
       "      <td>NaN</td>\n",
       "      <td>NaN</td>\n",
       "    </tr>\n",
       "    <tr>\n",
       "      <th>6</th>\n",
       "      <td>2/1/2025 23:57:42.150</td>\n",
       "      <td>8800</td>\n",
       "      <td>TI8808</td>\n",
       "      <td>ALARM</td>\n",
       "      <td>ACK PNT</td>\n",
       "      <td>NaN</td>\n",
       "      <td>DEAERATOR</td>\n",
       "      <td>NaN</td>\n",
       "      <td>NaN</td>\n",
       "    </tr>\n",
       "    <tr>\n",
       "      <th>7</th>\n",
       "      <td>2/1/2025 23:57:42.150</td>\n",
       "      <td>8800</td>\n",
       "      <td>TI8808</td>\n",
       "      <td>PVLOW</td>\n",
       "      <td>ACK</td>\n",
       "      <td>NaN</td>\n",
       "      <td>DEAERATOR</td>\n",
       "      <td>NaN</td>\n",
       "      <td>NaN</td>\n",
       "    </tr>\n",
       "    <tr>\n",
       "      <th>8</th>\n",
       "      <td>2/1/2025 23:57:38.385</td>\n",
       "      <td>8100</td>\n",
       "      <td>AI_PH10</td>\n",
       "      <td>PVHIHI</td>\n",
       "      <td>ACK</td>\n",
       "      <td>NaN</td>\n",
       "      <td>EFFULUENT CHANEL OLD W/S</td>\n",
       "      <td>NaN</td>\n",
       "      <td>NaN</td>\n",
       "    </tr>\n",
       "    <tr>\n",
       "      <th>9</th>\n",
       "      <td>2/1/2025 23:56:54.100</td>\n",
       "      <td>8100</td>\n",
       "      <td>AI_PH10</td>\n",
       "      <td>PVHIHI</td>\n",
       "      <td>NaN</td>\n",
       "      <td>H 00</td>\n",
       "      <td>EFFULUENT CHANEL OLD W/S</td>\n",
       "      <td>8.93968</td>\n",
       "      <td>pH</td>\n",
       "    </tr>\n",
       "  </tbody>\n",
       "</table>\n",
       "</div>"
      ],
      "text/plain": [
       "              Event Time  Location Tag    Source  \\\n",
       "0             Event Time  Location Tag    Source   \n",
       "1  2/1/2025 23:59:13.104          8800   PIC8808   \n",
       "2  2/1/2025 23:58:40.313          8800   PIC8808   \n",
       "3  2/1/2025 23:58:26.196          8800   PIC8808   \n",
       "4  2/1/2025 23:58:23.521          8800   PIC8808   \n",
       "5  2/1/2025 23:57:55.465    IOLINK01_1  AIOR-103   \n",
       "6  2/1/2025 23:57:42.150          8800    TI8808   \n",
       "7  2/1/2025 23:57:42.150          8800    TI8808   \n",
       "8  2/1/2025 23:57:38.385          8100   AI_PH10   \n",
       "9  2/1/2025 23:56:54.100          8100   AI_PH10   \n",
       "\n",
       "                       Condition   Action  Priority               Description  \\\n",
       "0                      Condition   Action  Priority               Description   \n",
       "1                         CHANGE      NaN       NaN                   pida.op   \n",
       "2                         CHANGE      NaN       NaN                   pida.op   \n",
       "3                         CHANGE      NaN       NaN                   pida.op   \n",
       "4                         CHANGE      NaN       NaN                 pida.mode   \n",
       "5  OP Fail in circuit/field wire      ACK       NaN                       NaN   \n",
       "6                          ALARM  ACK PNT       NaN                 DEAERATOR   \n",
       "7                          PVLOW      ACK       NaN                 DEAERATOR   \n",
       "8                         PVHIHI      ACK       NaN  EFFULUENT CHANEL OLD W/S   \n",
       "9                         PVHIHI      NaN      H 00  EFFULUENT CHANEL OLD W/S   \n",
       "\n",
       "     Value  Units  \n",
       "0    Value  Units  \n",
       "1       20      %  \n",
       "2       10      %  \n",
       "3        0      %  \n",
       "4      MAN    NaN  \n",
       "5      NaN    NaN  \n",
       "6      NaN    NaN  \n",
       "7      NaN    NaN  \n",
       "8      NaN    NaN  \n",
       "9  8.93968     pH  "
      ]
     },
     "execution_count": 30,
     "metadata": {},
     "output_type": "execute_result"
    }
   ],
   "source": [
    "data.head(10)"
   ]
  },
  {
   "cell_type": "code",
   "execution_count": 31,
   "id": "086826ad-c6fe-4f3f-a842-52c07bd423a9",
   "metadata": {},
   "outputs": [
    {
     "data": {
      "text/html": [
       "<div>\n",
       "<style scoped>\n",
       "    .dataframe tbody tr th:only-of-type {\n",
       "        vertical-align: middle;\n",
       "    }\n",
       "\n",
       "    .dataframe tbody tr th {\n",
       "        vertical-align: top;\n",
       "    }\n",
       "\n",
       "    .dataframe thead th {\n",
       "        text-align: right;\n",
       "    }\n",
       "</style>\n",
       "<table border=\"1\" class=\"dataframe\">\n",
       "  <thead>\n",
       "    <tr style=\"text-align: right;\">\n",
       "      <th></th>\n",
       "      <th>Event Time</th>\n",
       "      <th>Location Tag</th>\n",
       "      <th>Source</th>\n",
       "      <th>Condition</th>\n",
       "      <th>Action</th>\n",
       "      <th>Priority</th>\n",
       "      <th>Description</th>\n",
       "      <th>Value</th>\n",
       "      <th>Units</th>\n",
       "    </tr>\n",
       "  </thead>\n",
       "  <tbody>\n",
       "    <tr>\n",
       "      <th>1</th>\n",
       "      <td>2/1/2025 23:59:13.104</td>\n",
       "      <td>8800</td>\n",
       "      <td>PIC8808</td>\n",
       "      <td>CHANGE</td>\n",
       "      <td>NaN</td>\n",
       "      <td>NaN</td>\n",
       "      <td>pida.op</td>\n",
       "      <td>20</td>\n",
       "      <td>%</td>\n",
       "    </tr>\n",
       "    <tr>\n",
       "      <th>2</th>\n",
       "      <td>2/1/2025 23:58:40.313</td>\n",
       "      <td>8800</td>\n",
       "      <td>PIC8808</td>\n",
       "      <td>CHANGE</td>\n",
       "      <td>NaN</td>\n",
       "      <td>NaN</td>\n",
       "      <td>pida.op</td>\n",
       "      <td>10</td>\n",
       "      <td>%</td>\n",
       "    </tr>\n",
       "    <tr>\n",
       "      <th>3</th>\n",
       "      <td>2/1/2025 23:58:26.196</td>\n",
       "      <td>8800</td>\n",
       "      <td>PIC8808</td>\n",
       "      <td>CHANGE</td>\n",
       "      <td>NaN</td>\n",
       "      <td>NaN</td>\n",
       "      <td>pida.op</td>\n",
       "      <td>0</td>\n",
       "      <td>%</td>\n",
       "    </tr>\n",
       "    <tr>\n",
       "      <th>4</th>\n",
       "      <td>2/1/2025 23:58:23.521</td>\n",
       "      <td>8800</td>\n",
       "      <td>PIC8808</td>\n",
       "      <td>CHANGE</td>\n",
       "      <td>NaN</td>\n",
       "      <td>NaN</td>\n",
       "      <td>pida.mode</td>\n",
       "      <td>MAN</td>\n",
       "      <td>NaN</td>\n",
       "    </tr>\n",
       "    <tr>\n",
       "      <th>5</th>\n",
       "      <td>2/1/2025 23:57:55.465</td>\n",
       "      <td>IOLINK01_1</td>\n",
       "      <td>AIOR-103</td>\n",
       "      <td>OP Fail in circuit/field wire</td>\n",
       "      <td>ACK</td>\n",
       "      <td>NaN</td>\n",
       "      <td>NaN</td>\n",
       "      <td>NaN</td>\n",
       "      <td>NaN</td>\n",
       "    </tr>\n",
       "    <tr>\n",
       "      <th>...</th>\n",
       "      <td>...</td>\n",
       "      <td>...</td>\n",
       "      <td>...</td>\n",
       "      <td>...</td>\n",
       "      <td>...</td>\n",
       "      <td>...</td>\n",
       "      <td>...</td>\n",
       "      <td>...</td>\n",
       "      <td>...</td>\n",
       "    </tr>\n",
       "    <tr>\n",
       "      <th>5016</th>\n",
       "      <td>2/1/2025 0:00:11.300</td>\n",
       "      <td>IOLINK04_1</td>\n",
       "      <td>AIOR-704</td>\n",
       "      <td>OP Fail in circuit/field wire</td>\n",
       "      <td>NaN</td>\n",
       "      <td>H 15</td>\n",
       "      <td>NaN</td>\n",
       "      <td>Channel_18_A</td>\n",
       "      <td>NaN</td>\n",
       "    </tr>\n",
       "    <tr>\n",
       "      <th>5017</th>\n",
       "      <td>2/1/2025 0:00:03.900</td>\n",
       "      <td>01</td>\n",
       "      <td>EVENT_SCM2A</td>\n",
       "      <td>OFFNRM</td>\n",
       "      <td>OK</td>\n",
       "      <td>J 00</td>\n",
       "      <td>NaN</td>\n",
       "      <td>OFF</td>\n",
       "      <td>NaN</td>\n",
       "    </tr>\n",
       "    <tr>\n",
       "      <th>5018</th>\n",
       "      <td>2/1/2025 0:00:02.000</td>\n",
       "      <td>1300</td>\n",
       "      <td>XSV1318B</td>\n",
       "      <td>CMDDIS</td>\n",
       "      <td>OK</td>\n",
       "      <td>L 00</td>\n",
       "      <td>RE1301B DISCHARGE</td>\n",
       "      <td>Inbet</td>\n",
       "      <td>NaN</td>\n",
       "    </tr>\n",
       "    <tr>\n",
       "      <th>5019</th>\n",
       "      <td>2/1/2025 0:00:02.585</td>\n",
       "      <td>1300</td>\n",
       "      <td>XSV1318B</td>\n",
       "      <td>CHANGE</td>\n",
       "      <td>NaN</td>\n",
       "      <td>NaN</td>\n",
       "      <td>devctla.gop</td>\n",
       "      <td>S0</td>\n",
       "      <td>NaN</td>\n",
       "    </tr>\n",
       "    <tr>\n",
       "      <th>5020</th>\n",
       "      <td>2/1/2025 0:00:00.688</td>\n",
       "      <td>SERVER_PVC</td>\n",
       "      <td>DAILY RP</td>\n",
       "      <td>PERIODIC</td>\n",
       "      <td>NaN</td>\n",
       "      <td>J 00</td>\n",
       "      <td>Report Periodic Request</td>\n",
       "      <td>12</td>\n",
       "      <td>NaN</td>\n",
       "    </tr>\n",
       "  </tbody>\n",
       "</table>\n",
       "<p>5020 rows × 9 columns</p>\n",
       "</div>"
      ],
      "text/plain": [
       "                 Event Time Location Tag       Source  \\\n",
       "1     2/1/2025 23:59:13.104         8800      PIC8808   \n",
       "2     2/1/2025 23:58:40.313         8800      PIC8808   \n",
       "3     2/1/2025 23:58:26.196         8800      PIC8808   \n",
       "4     2/1/2025 23:58:23.521         8800      PIC8808   \n",
       "5     2/1/2025 23:57:55.465   IOLINK01_1     AIOR-103   \n",
       "...                     ...          ...          ...   \n",
       "5016   2/1/2025 0:00:11.300   IOLINK04_1     AIOR-704   \n",
       "5017   2/1/2025 0:00:03.900           01  EVENT_SCM2A   \n",
       "5018   2/1/2025 0:00:02.000         1300     XSV1318B   \n",
       "5019   2/1/2025 0:00:02.585         1300     XSV1318B   \n",
       "5020   2/1/2025 0:00:00.688   SERVER_PVC     DAILY RP   \n",
       "\n",
       "                          Condition Action Priority              Description  \\\n",
       "1                            CHANGE    NaN      NaN                  pida.op   \n",
       "2                            CHANGE    NaN      NaN                  pida.op   \n",
       "3                            CHANGE    NaN      NaN                  pida.op   \n",
       "4                            CHANGE    NaN      NaN                pida.mode   \n",
       "5     OP Fail in circuit/field wire    ACK      NaN                      NaN   \n",
       "...                             ...    ...      ...                      ...   \n",
       "5016  OP Fail in circuit/field wire    NaN     H 15                      NaN   \n",
       "5017                         OFFNRM     OK     J 00                      NaN   \n",
       "5018                         CMDDIS     OK     L 00        RE1301B DISCHARGE   \n",
       "5019                         CHANGE    NaN      NaN              devctla.gop   \n",
       "5020                       PERIODIC    NaN     J 00  Report Periodic Request   \n",
       "\n",
       "             Value Units  \n",
       "1               20     %  \n",
       "2               10     %  \n",
       "3                0     %  \n",
       "4              MAN   NaN  \n",
       "5              NaN   NaN  \n",
       "...            ...   ...  \n",
       "5016  Channel_18_A   NaN  \n",
       "5017           OFF   NaN  \n",
       "5018         Inbet   NaN  \n",
       "5019            S0   NaN  \n",
       "5020            12   NaN  \n",
       "\n",
       "[5020 rows x 9 columns]"
      ]
     },
     "execution_count": 31,
     "metadata": {},
     "output_type": "execute_result"
    }
   ],
   "source": [
    "data = data[1:]\n",
    "data"
   ]
  },
  {
   "cell_type": "code",
   "execution_count": 32,
   "id": "b8a23669-4a77-4d14-ad7d-e26b75ffa07d",
   "metadata": {},
   "outputs": [
    {
     "name": "stdout",
     "output_type": "stream",
     "text": [
      "               Event Time\n",
      "0  02/01/2025 12:00:00 AM\n",
      "1  02/01/2025 12:00:02 AM\n",
      "2  02/01/2025 12:00:02 AM\n",
      "3  02/01/2025 12:00:03 AM\n",
      "4  02/01/2025 12:00:11 AM\n"
     ]
    }
   ],
   "source": [
    "# Convert 'Event Time' column to proper datetime format\n",
    "data['Event Time'] = pd.to_datetime(data['Event Time'], errors='coerce')\n",
    "\n",
    "# Sort the dataframe by this datetime column (from earliest → latest)\n",
    "data = data.sort_values(by='Event Time')\n",
    "\n",
    "# Format the column with AM/PM style (e.g. 2025-02-01 11:59:13 PM)\n",
    "data['Event Time'] = data['Event Time'].dt.strftime('%m/%d/%Y %I:%M:%S %p')\n",
    "\n",
    "# Reset index after sorting (optional)\n",
    "data = data.reset_index(drop=True)\n",
    "\n",
    "# Display the result\n",
    "print(data[['Event Time']].head())"
   ]
  },
  {
   "cell_type": "code",
   "execution_count": 34,
   "id": "ae4fa942-6c72-4aaa-9de1-bebff47a9e8c",
   "metadata": {},
   "outputs": [
    {
     "data": {
      "text/html": [
       "<div>\n",
       "<style scoped>\n",
       "    .dataframe tbody tr th:only-of-type {\n",
       "        vertical-align: middle;\n",
       "    }\n",
       "\n",
       "    .dataframe tbody tr th {\n",
       "        vertical-align: top;\n",
       "    }\n",
       "\n",
       "    .dataframe thead th {\n",
       "        text-align: right;\n",
       "    }\n",
       "</style>\n",
       "<table border=\"1\" class=\"dataframe\">\n",
       "  <thead>\n",
       "    <tr style=\"text-align: right;\">\n",
       "      <th></th>\n",
       "      <th>Event Time</th>\n",
       "      <th>Location Tag</th>\n",
       "      <th>Source</th>\n",
       "      <th>Condition</th>\n",
       "      <th>Action</th>\n",
       "      <th>Priority</th>\n",
       "      <th>Description</th>\n",
       "      <th>Value</th>\n",
       "      <th>Units</th>\n",
       "    </tr>\n",
       "  </thead>\n",
       "  <tbody>\n",
       "    <tr>\n",
       "      <th>5010</th>\n",
       "      <td>02/01/2025 11:56:33 PM</td>\n",
       "      <td>1300</td>\n",
       "      <td>XSV1349A</td>\n",
       "      <td>CHANGE</td>\n",
       "      <td>NaN</td>\n",
       "      <td>NaN</td>\n",
       "      <td>devctla.gop</td>\n",
       "      <td>S0</td>\n",
       "      <td>NaN</td>\n",
       "    </tr>\n",
       "    <tr>\n",
       "      <th>5011</th>\n",
       "      <td>02/01/2025 11:56:54 PM</td>\n",
       "      <td>8100</td>\n",
       "      <td>AI_PH10</td>\n",
       "      <td>PVHIHI</td>\n",
       "      <td>NaN</td>\n",
       "      <td>H 00</td>\n",
       "      <td>EFFULUENT CHANEL OLD W/S</td>\n",
       "      <td>8.93968</td>\n",
       "      <td>pH</td>\n",
       "    </tr>\n",
       "    <tr>\n",
       "      <th>5012</th>\n",
       "      <td>02/01/2025 11:57:38 PM</td>\n",
       "      <td>8100</td>\n",
       "      <td>AI_PH10</td>\n",
       "      <td>PVHIHI</td>\n",
       "      <td>ACK</td>\n",
       "      <td>NaN</td>\n",
       "      <td>EFFULUENT CHANEL OLD W/S</td>\n",
       "      <td>NaN</td>\n",
       "      <td>NaN</td>\n",
       "    </tr>\n",
       "    <tr>\n",
       "      <th>5013</th>\n",
       "      <td>02/01/2025 11:57:42 PM</td>\n",
       "      <td>8800</td>\n",
       "      <td>TI8808</td>\n",
       "      <td>ALARM</td>\n",
       "      <td>ACK PNT</td>\n",
       "      <td>NaN</td>\n",
       "      <td>DEAERATOR</td>\n",
       "      <td>NaN</td>\n",
       "      <td>NaN</td>\n",
       "    </tr>\n",
       "    <tr>\n",
       "      <th>5014</th>\n",
       "      <td>02/01/2025 11:57:42 PM</td>\n",
       "      <td>8800</td>\n",
       "      <td>TI8808</td>\n",
       "      <td>PVLOW</td>\n",
       "      <td>ACK</td>\n",
       "      <td>NaN</td>\n",
       "      <td>DEAERATOR</td>\n",
       "      <td>NaN</td>\n",
       "      <td>NaN</td>\n",
       "    </tr>\n",
       "    <tr>\n",
       "      <th>5015</th>\n",
       "      <td>02/01/2025 11:57:55 PM</td>\n",
       "      <td>IOLINK01_1</td>\n",
       "      <td>AIOR-103</td>\n",
       "      <td>OP Fail in circuit/field wire</td>\n",
       "      <td>ACK</td>\n",
       "      <td>NaN</td>\n",
       "      <td>NaN</td>\n",
       "      <td>NaN</td>\n",
       "      <td>NaN</td>\n",
       "    </tr>\n",
       "    <tr>\n",
       "      <th>5016</th>\n",
       "      <td>02/01/2025 11:58:23 PM</td>\n",
       "      <td>8800</td>\n",
       "      <td>PIC8808</td>\n",
       "      <td>CHANGE</td>\n",
       "      <td>NaN</td>\n",
       "      <td>NaN</td>\n",
       "      <td>pida.mode</td>\n",
       "      <td>MAN</td>\n",
       "      <td>NaN</td>\n",
       "    </tr>\n",
       "    <tr>\n",
       "      <th>5017</th>\n",
       "      <td>02/01/2025 11:58:26 PM</td>\n",
       "      <td>8800</td>\n",
       "      <td>PIC8808</td>\n",
       "      <td>CHANGE</td>\n",
       "      <td>NaN</td>\n",
       "      <td>NaN</td>\n",
       "      <td>pida.op</td>\n",
       "      <td>0</td>\n",
       "      <td>%</td>\n",
       "    </tr>\n",
       "    <tr>\n",
       "      <th>5018</th>\n",
       "      <td>02/01/2025 11:58:40 PM</td>\n",
       "      <td>8800</td>\n",
       "      <td>PIC8808</td>\n",
       "      <td>CHANGE</td>\n",
       "      <td>NaN</td>\n",
       "      <td>NaN</td>\n",
       "      <td>pida.op</td>\n",
       "      <td>10</td>\n",
       "      <td>%</td>\n",
       "    </tr>\n",
       "    <tr>\n",
       "      <th>5019</th>\n",
       "      <td>02/01/2025 11:59:13 PM</td>\n",
       "      <td>8800</td>\n",
       "      <td>PIC8808</td>\n",
       "      <td>CHANGE</td>\n",
       "      <td>NaN</td>\n",
       "      <td>NaN</td>\n",
       "      <td>pida.op</td>\n",
       "      <td>20</td>\n",
       "      <td>%</td>\n",
       "    </tr>\n",
       "  </tbody>\n",
       "</table>\n",
       "</div>"
      ],
      "text/plain": [
       "                  Event Time Location Tag    Source  \\\n",
       "5010  02/01/2025 11:56:33 PM         1300  XSV1349A   \n",
       "5011  02/01/2025 11:56:54 PM         8100   AI_PH10   \n",
       "5012  02/01/2025 11:57:38 PM         8100   AI_PH10   \n",
       "5013  02/01/2025 11:57:42 PM         8800    TI8808   \n",
       "5014  02/01/2025 11:57:42 PM         8800    TI8808   \n",
       "5015  02/01/2025 11:57:55 PM   IOLINK01_1  AIOR-103   \n",
       "5016  02/01/2025 11:58:23 PM         8800   PIC8808   \n",
       "5017  02/01/2025 11:58:26 PM         8800   PIC8808   \n",
       "5018  02/01/2025 11:58:40 PM         8800   PIC8808   \n",
       "5019  02/01/2025 11:59:13 PM         8800   PIC8808   \n",
       "\n",
       "                          Condition   Action Priority  \\\n",
       "5010                         CHANGE      NaN      NaN   \n",
       "5011                         PVHIHI      NaN     H 00   \n",
       "5012                         PVHIHI      ACK      NaN   \n",
       "5013                          ALARM  ACK PNT      NaN   \n",
       "5014                          PVLOW      ACK      NaN   \n",
       "5015  OP Fail in circuit/field wire      ACK      NaN   \n",
       "5016                         CHANGE      NaN      NaN   \n",
       "5017                         CHANGE      NaN      NaN   \n",
       "5018                         CHANGE      NaN      NaN   \n",
       "5019                         CHANGE      NaN      NaN   \n",
       "\n",
       "                   Description    Value Units  \n",
       "5010               devctla.gop       S0   NaN  \n",
       "5011  EFFULUENT CHANEL OLD W/S  8.93968    pH  \n",
       "5012  EFFULUENT CHANEL OLD W/S      NaN   NaN  \n",
       "5013                 DEAERATOR      NaN   NaN  \n",
       "5014                 DEAERATOR      NaN   NaN  \n",
       "5015                       NaN      NaN   NaN  \n",
       "5016                 pida.mode      MAN   NaN  \n",
       "5017                   pida.op        0     %  \n",
       "5018                   pida.op       10     %  \n",
       "5019                   pida.op       20     %  "
      ]
     },
     "execution_count": 34,
     "metadata": {},
     "output_type": "execute_result"
    }
   ],
   "source": [
    "data.tail(10)"
   ]
  },
  {
   "cell_type": "code",
   "execution_count": null,
   "id": "bb83a99e-f3c6-4b2f-88da-042900d762c1",
   "metadata": {},
   "outputs": [],
   "source": [
    "import pandas as pd\n",
    "\n",
    "# Skip the first 6 rows, and let pandas use row 7 as the header\n",
    "data = pd.read_csv(\"./PVC-I (Jan, Feb, Mar) EVENTS/01feb.csv\", skiprows=7, on_bad_lines='skip')\n",
    "data.columns = [\n",
    "    \"Event Time\", \"Location Tag\", \"Source\", \"Condition\", \"Action\",\n",
    "    \"Priority\", \"Description\", \"Value\", \"Units\"\n",
    "]\n",
    "\n",
    "# Convert 'Event Time' column to proper datetime format\n",
    "data['Event Time'] = pd.to_datetime(data['Event Time'], errors='coerce')\n",
    "\n",
    "# Sort the dataframe by this datetime column (from earliest → latest)\n",
    "data = data.sort_values(by='Event Time')\n",
    "\n",
    "# Format the column with AM/PM style (e.g. 2025-02-01 11:59:13 PM)\n",
    "data['Event Time'] = data['Event Time'].dt.strftime('%m/%d/%Y %I:%M:%S %p')\n",
    "\n",
    "# Reset index after sorting (optional)\n",
    "data = data.reset_index(drop=True)\n",
    "\n",
    "\n",
    "# Display first few rows\n",
    "print(data.head(10))\n"
   ]
  },
  {
   "cell_type": "code",
   "execution_count": 35,
   "id": "458fa849-3f12-4b76-9d02-72116451ba62",
   "metadata": {},
   "outputs": [
    {
     "name": "stdout",
     "output_type": "stream",
     "text": [
      "Processing file: ./PVC-I (Jan, Feb, Mar) EVENTS\\01feb.csv\n"
     ]
    },
    {
     "name": "stderr",
     "output_type": "stream",
     "text": [
      "C:\\Users\\hmaba\\AppData\\Local\\Temp\\ipykernel_4016\\3701692928.py:27: UserWarning: Could not infer format, so each element will be parsed individually, falling back to `dateutil`. To ensure parsing is consistent and as-expected, please specify a format.\n",
      "  data['Event Time'] = pd.to_datetime(data['Event Time'], errors='coerce')\n"
     ]
    },
    {
     "name": "stdout",
     "output_type": "stream",
     "text": [
      "Processing file: ./PVC-I (Jan, Feb, Mar) EVENTS\\02feb.csv\n"
     ]
    },
    {
     "name": "stderr",
     "output_type": "stream",
     "text": [
      "C:\\Users\\hmaba\\AppData\\Local\\Temp\\ipykernel_4016\\3701692928.py:27: UserWarning: Could not infer format, so each element will be parsed individually, falling back to `dateutil`. To ensure parsing is consistent and as-expected, please specify a format.\n",
      "  data['Event Time'] = pd.to_datetime(data['Event Time'], errors='coerce')\n"
     ]
    },
    {
     "name": "stdout",
     "output_type": "stream",
     "text": [
      "Processing file: ./PVC-I (Jan, Feb, Mar) EVENTS\\03feb.csv\n"
     ]
    },
    {
     "name": "stderr",
     "output_type": "stream",
     "text": [
      "C:\\Users\\hmaba\\AppData\\Local\\Temp\\ipykernel_4016\\3701692928.py:27: UserWarning: Could not infer format, so each element will be parsed individually, falling back to `dateutil`. To ensure parsing is consistent and as-expected, please specify a format.\n",
      "  data['Event Time'] = pd.to_datetime(data['Event Time'], errors='coerce')\n"
     ]
    },
    {
     "name": "stdout",
     "output_type": "stream",
     "text": [
      "Processing file: ./PVC-I (Jan, Feb, Mar) EVENTS\\04feb.csv\n"
     ]
    },
    {
     "name": "stderr",
     "output_type": "stream",
     "text": [
      "C:\\Users\\hmaba\\AppData\\Local\\Temp\\ipykernel_4016\\3701692928.py:27: UserWarning: Could not infer format, so each element will be parsed individually, falling back to `dateutil`. To ensure parsing is consistent and as-expected, please specify a format.\n",
      "  data['Event Time'] = pd.to_datetime(data['Event Time'], errors='coerce')\n"
     ]
    },
    {
     "name": "stdout",
     "output_type": "stream",
     "text": [
      "Processing file: ./PVC-I (Jan, Feb, Mar) EVENTS\\05feb.csv\n"
     ]
    },
    {
     "name": "stderr",
     "output_type": "stream",
     "text": [
      "C:\\Users\\hmaba\\AppData\\Local\\Temp\\ipykernel_4016\\3701692928.py:27: UserWarning: Could not infer format, so each element will be parsed individually, falling back to `dateutil`. To ensure parsing is consistent and as-expected, please specify a format.\n",
      "  data['Event Time'] = pd.to_datetime(data['Event Time'], errors='coerce')\n"
     ]
    },
    {
     "name": "stdout",
     "output_type": "stream",
     "text": [
      "Processing file: ./PVC-I (Jan, Feb, Mar) EVENTS\\06feb.csv\n"
     ]
    },
    {
     "name": "stderr",
     "output_type": "stream",
     "text": [
      "C:\\Users\\hmaba\\AppData\\Local\\Temp\\ipykernel_4016\\3701692928.py:27: UserWarning: Could not infer format, so each element will be parsed individually, falling back to `dateutil`. To ensure parsing is consistent and as-expected, please specify a format.\n",
      "  data['Event Time'] = pd.to_datetime(data['Event Time'], errors='coerce')\n"
     ]
    },
    {
     "name": "stdout",
     "output_type": "stream",
     "text": [
      "Processing file: ./PVC-I (Jan, Feb, Mar) EVENTS\\07feb.csv\n"
     ]
    },
    {
     "name": "stderr",
     "output_type": "stream",
     "text": [
      "C:\\Users\\hmaba\\AppData\\Local\\Temp\\ipykernel_4016\\3701692928.py:27: UserWarning: Could not infer format, so each element will be parsed individually, falling back to `dateutil`. To ensure parsing is consistent and as-expected, please specify a format.\n",
      "  data['Event Time'] = pd.to_datetime(data['Event Time'], errors='coerce')\n"
     ]
    },
    {
     "name": "stdout",
     "output_type": "stream",
     "text": [
      "Processing file: ./PVC-I (Jan, Feb, Mar) EVENTS\\08feb.csv\n"
     ]
    },
    {
     "name": "stderr",
     "output_type": "stream",
     "text": [
      "C:\\Users\\hmaba\\AppData\\Local\\Temp\\ipykernel_4016\\3701692928.py:27: UserWarning: Could not infer format, so each element will be parsed individually, falling back to `dateutil`. To ensure parsing is consistent and as-expected, please specify a format.\n",
      "  data['Event Time'] = pd.to_datetime(data['Event Time'], errors='coerce')\n"
     ]
    },
    {
     "name": "stdout",
     "output_type": "stream",
     "text": [
      "Processing file: ./PVC-I (Jan, Feb, Mar) EVENTS\\10feb.csv\n"
     ]
    },
    {
     "name": "stderr",
     "output_type": "stream",
     "text": [
      "C:\\Users\\hmaba\\AppData\\Local\\Temp\\ipykernel_4016\\3701692928.py:27: UserWarning: Could not infer format, so each element will be parsed individually, falling back to `dateutil`. To ensure parsing is consistent and as-expected, please specify a format.\n",
      "  data['Event Time'] = pd.to_datetime(data['Event Time'], errors='coerce')\n"
     ]
    },
    {
     "name": "stdout",
     "output_type": "stream",
     "text": [
      "Processing file: ./PVC-I (Jan, Feb, Mar) EVENTS\\11feb.csv\n"
     ]
    },
    {
     "name": "stderr",
     "output_type": "stream",
     "text": [
      "C:\\Users\\hmaba\\AppData\\Local\\Temp\\ipykernel_4016\\3701692928.py:27: UserWarning: Could not infer format, so each element will be parsed individually, falling back to `dateutil`. To ensure parsing is consistent and as-expected, please specify a format.\n",
      "  data['Event Time'] = pd.to_datetime(data['Event Time'], errors='coerce')\n"
     ]
    },
    {
     "name": "stdout",
     "output_type": "stream",
     "text": [
      "Processing file: ./PVC-I (Jan, Feb, Mar) EVENTS\\12feb.csv\n"
     ]
    },
    {
     "name": "stderr",
     "output_type": "stream",
     "text": [
      "C:\\Users\\hmaba\\AppData\\Local\\Temp\\ipykernel_4016\\3701692928.py:27: UserWarning: Could not infer format, so each element will be parsed individually, falling back to `dateutil`. To ensure parsing is consistent and as-expected, please specify a format.\n",
      "  data['Event Time'] = pd.to_datetime(data['Event Time'], errors='coerce')\n"
     ]
    },
    {
     "name": "stdout",
     "output_type": "stream",
     "text": [
      "Processing file: ./PVC-I (Jan, Feb, Mar) EVENTS\\13feb.csv\n"
     ]
    },
    {
     "name": "stderr",
     "output_type": "stream",
     "text": [
      "C:\\Users\\hmaba\\AppData\\Local\\Temp\\ipykernel_4016\\3701692928.py:27: UserWarning: Could not infer format, so each element will be parsed individually, falling back to `dateutil`. To ensure parsing is consistent and as-expected, please specify a format.\n",
      "  data['Event Time'] = pd.to_datetime(data['Event Time'], errors='coerce')\n"
     ]
    },
    {
     "name": "stdout",
     "output_type": "stream",
     "text": [
      "Processing file: ./PVC-I (Jan, Feb, Mar) EVENTS\\14feb.csv\n"
     ]
    },
    {
     "name": "stderr",
     "output_type": "stream",
     "text": [
      "C:\\Users\\hmaba\\AppData\\Local\\Temp\\ipykernel_4016\\3701692928.py:27: UserWarning: Could not infer format, so each element will be parsed individually, falling back to `dateutil`. To ensure parsing is consistent and as-expected, please specify a format.\n",
      "  data['Event Time'] = pd.to_datetime(data['Event Time'], errors='coerce')\n"
     ]
    },
    {
     "name": "stdout",
     "output_type": "stream",
     "text": [
      "Processing file: ./PVC-I (Jan, Feb, Mar) EVENTS\\15feb.csv\n"
     ]
    },
    {
     "name": "stderr",
     "output_type": "stream",
     "text": [
      "C:\\Users\\hmaba\\AppData\\Local\\Temp\\ipykernel_4016\\3701692928.py:27: UserWarning: Could not infer format, so each element will be parsed individually, falling back to `dateutil`. To ensure parsing is consistent and as-expected, please specify a format.\n",
      "  data['Event Time'] = pd.to_datetime(data['Event Time'], errors='coerce')\n"
     ]
    },
    {
     "name": "stdout",
     "output_type": "stream",
     "text": [
      "Processing file: ./PVC-I (Jan, Feb, Mar) EVENTS\\16feb.csv\n"
     ]
    },
    {
     "name": "stderr",
     "output_type": "stream",
     "text": [
      "C:\\Users\\hmaba\\AppData\\Local\\Temp\\ipykernel_4016\\3701692928.py:27: UserWarning: Could not infer format, so each element will be parsed individually, falling back to `dateutil`. To ensure parsing is consistent and as-expected, please specify a format.\n",
      "  data['Event Time'] = pd.to_datetime(data['Event Time'], errors='coerce')\n"
     ]
    },
    {
     "name": "stdout",
     "output_type": "stream",
     "text": [
      "Processing file: ./PVC-I (Jan, Feb, Mar) EVENTS\\17feb.csv\n"
     ]
    },
    {
     "name": "stderr",
     "output_type": "stream",
     "text": [
      "C:\\Users\\hmaba\\AppData\\Local\\Temp\\ipykernel_4016\\3701692928.py:27: UserWarning: Could not infer format, so each element will be parsed individually, falling back to `dateutil`. To ensure parsing is consistent and as-expected, please specify a format.\n",
      "  data['Event Time'] = pd.to_datetime(data['Event Time'], errors='coerce')\n"
     ]
    },
    {
     "name": "stdout",
     "output_type": "stream",
     "text": [
      "Processing file: ./PVC-I (Jan, Feb, Mar) EVENTS\\18feb.csv\n"
     ]
    },
    {
     "name": "stderr",
     "output_type": "stream",
     "text": [
      "C:\\Users\\hmaba\\AppData\\Local\\Temp\\ipykernel_4016\\3701692928.py:27: UserWarning: Could not infer format, so each element will be parsed individually, falling back to `dateutil`. To ensure parsing is consistent and as-expected, please specify a format.\n",
      "  data['Event Time'] = pd.to_datetime(data['Event Time'], errors='coerce')\n"
     ]
    },
    {
     "name": "stdout",
     "output_type": "stream",
     "text": [
      "Processing file: ./PVC-I (Jan, Feb, Mar) EVENTS\\19feb.csv\n"
     ]
    },
    {
     "name": "stderr",
     "output_type": "stream",
     "text": [
      "C:\\Users\\hmaba\\AppData\\Local\\Temp\\ipykernel_4016\\3701692928.py:27: UserWarning: Could not infer format, so each element will be parsed individually, falling back to `dateutil`. To ensure parsing is consistent and as-expected, please specify a format.\n",
      "  data['Event Time'] = pd.to_datetime(data['Event Time'], errors='coerce')\n"
     ]
    },
    {
     "name": "stdout",
     "output_type": "stream",
     "text": [
      "Processing file: ./PVC-I (Jan, Feb, Mar) EVENTS\\20feb.csv\n"
     ]
    },
    {
     "name": "stderr",
     "output_type": "stream",
     "text": [
      "C:\\Users\\hmaba\\AppData\\Local\\Temp\\ipykernel_4016\\3701692928.py:27: UserWarning: Could not infer format, so each element will be parsed individually, falling back to `dateutil`. To ensure parsing is consistent and as-expected, please specify a format.\n",
      "  data['Event Time'] = pd.to_datetime(data['Event Time'], errors='coerce')\n"
     ]
    },
    {
     "name": "stdout",
     "output_type": "stream",
     "text": [
      "Processing file: ./PVC-I (Jan, Feb, Mar) EVENTS\\21feb.csv\n"
     ]
    },
    {
     "name": "stderr",
     "output_type": "stream",
     "text": [
      "C:\\Users\\hmaba\\AppData\\Local\\Temp\\ipykernel_4016\\3701692928.py:27: UserWarning: Could not infer format, so each element will be parsed individually, falling back to `dateutil`. To ensure parsing is consistent and as-expected, please specify a format.\n",
      "  data['Event Time'] = pd.to_datetime(data['Event Time'], errors='coerce')\n"
     ]
    },
    {
     "name": "stdout",
     "output_type": "stream",
     "text": [
      "Processing file: ./PVC-I (Jan, Feb, Mar) EVENTS\\22feb.csv\n"
     ]
    },
    {
     "name": "stderr",
     "output_type": "stream",
     "text": [
      "C:\\Users\\hmaba\\AppData\\Local\\Temp\\ipykernel_4016\\3701692928.py:27: UserWarning: Could not infer format, so each element will be parsed individually, falling back to `dateutil`. To ensure parsing is consistent and as-expected, please specify a format.\n",
      "  data['Event Time'] = pd.to_datetime(data['Event Time'], errors='coerce')\n"
     ]
    },
    {
     "name": "stdout",
     "output_type": "stream",
     "text": [
      "Processing file: ./PVC-I (Jan, Feb, Mar) EVENTS\\23feb.csv\n"
     ]
    },
    {
     "name": "stderr",
     "output_type": "stream",
     "text": [
      "C:\\Users\\hmaba\\AppData\\Local\\Temp\\ipykernel_4016\\3701692928.py:27: UserWarning: Could not infer format, so each element will be parsed individually, falling back to `dateutil`. To ensure parsing is consistent and as-expected, please specify a format.\n",
      "  data['Event Time'] = pd.to_datetime(data['Event Time'], errors='coerce')\n"
     ]
    },
    {
     "name": "stdout",
     "output_type": "stream",
     "text": [
      "Processing file: ./PVC-I (Jan, Feb, Mar) EVENTS\\24feb.csv\n"
     ]
    },
    {
     "name": "stderr",
     "output_type": "stream",
     "text": [
      "C:\\Users\\hmaba\\AppData\\Local\\Temp\\ipykernel_4016\\3701692928.py:27: UserWarning: Could not infer format, so each element will be parsed individually, falling back to `dateutil`. To ensure parsing is consistent and as-expected, please specify a format.\n",
      "  data['Event Time'] = pd.to_datetime(data['Event Time'], errors='coerce')\n"
     ]
    },
    {
     "name": "stdout",
     "output_type": "stream",
     "text": [
      "Processing file: ./PVC-I (Jan, Feb, Mar) EVENTS\\25feb.csv\n"
     ]
    },
    {
     "name": "stderr",
     "output_type": "stream",
     "text": [
      "C:\\Users\\hmaba\\AppData\\Local\\Temp\\ipykernel_4016\\3701692928.py:27: UserWarning: Could not infer format, so each element will be parsed individually, falling back to `dateutil`. To ensure parsing is consistent and as-expected, please specify a format.\n",
      "  data['Event Time'] = pd.to_datetime(data['Event Time'], errors='coerce')\n"
     ]
    },
    {
     "name": "stdout",
     "output_type": "stream",
     "text": [
      "Processing file: ./PVC-I (Jan, Feb, Mar) EVENTS\\26feb.csv\n"
     ]
    },
    {
     "name": "stderr",
     "output_type": "stream",
     "text": [
      "C:\\Users\\hmaba\\AppData\\Local\\Temp\\ipykernel_4016\\3701692928.py:27: UserWarning: Could not infer format, so each element will be parsed individually, falling back to `dateutil`. To ensure parsing is consistent and as-expected, please specify a format.\n",
      "  data['Event Time'] = pd.to_datetime(data['Event Time'], errors='coerce')\n"
     ]
    },
    {
     "name": "stdout",
     "output_type": "stream",
     "text": [
      "Processing file: ./PVC-I (Jan, Feb, Mar) EVENTS\\27feb.csv\n"
     ]
    },
    {
     "name": "stderr",
     "output_type": "stream",
     "text": [
      "C:\\Users\\hmaba\\AppData\\Local\\Temp\\ipykernel_4016\\3701692928.py:27: UserWarning: Could not infer format, so each element will be parsed individually, falling back to `dateutil`. To ensure parsing is consistent and as-expected, please specify a format.\n",
      "  data['Event Time'] = pd.to_datetime(data['Event Time'], errors='coerce')\n"
     ]
    },
    {
     "name": "stdout",
     "output_type": "stream",
     "text": [
      "Processing file: ./PVC-I (Jan, Feb, Mar) EVENTS\\28feb.csv\n"
     ]
    },
    {
     "name": "stderr",
     "output_type": "stream",
     "text": [
      "C:\\Users\\hmaba\\AppData\\Local\\Temp\\ipykernel_4016\\3701692928.py:27: UserWarning: Could not infer format, so each element will be parsed individually, falling back to `dateutil`. To ensure parsing is consistent and as-expected, please specify a format.\n",
      "  data['Event Time'] = pd.to_datetime(data['Event Time'], errors='coerce')\n"
     ]
    },
    {
     "name": "stdout",
     "output_type": "stream",
     "text": [
      "Processing file: ./PVC-I (Jan, Feb, Mar) EVENTS\\9feb.csv\n"
     ]
    },
    {
     "name": "stderr",
     "output_type": "stream",
     "text": [
      "C:\\Users\\hmaba\\AppData\\Local\\Temp\\ipykernel_4016\\3701692928.py:27: UserWarning: Could not infer format, so each element will be parsed individually, falling back to `dateutil`. To ensure parsing is consistent and as-expected, please specify a format.\n",
      "  data['Event Time'] = pd.to_datetime(data['Event Time'], errors='coerce')\n"
     ]
    },
    {
     "name": "stdout",
     "output_type": "stream",
     "text": [
      "\n",
      "✅ All February files merged and saved to: ./PVC-I (Jan, Feb, Mar) EVENTS/All_Feb_Combined.csv\n"
     ]
    }
   ],
   "source": [
    "import pandas as pd\n",
    "import glob\n",
    "import os\n",
    "\n",
    "# Directory where your CSVs are stored\n",
    "folder_path = \"./PVC-I (Jan, Feb, Mar) EVENTS/\"\n",
    "\n",
    "# Find all February CSV files (filenames like 01feb.csv, 02feb.csv, etc.)\n",
    "csv_files = glob.glob(os.path.join(folder_path, \"*feb.csv\"))\n",
    "\n",
    "# List to collect all processed DataFrames\n",
    "all_data = []\n",
    "\n",
    "for file in csv_files:\n",
    "    print(f\"Processing file: {file}\")\n",
    "\n",
    "    # Read CSV while skipping metadata rows\n",
    "    data = pd.read_csv(file, skiprows=6, on_bad_lines='skip')\n",
    "\n",
    "    # Rename columns\n",
    "    data.columns = [\n",
    "        \"Event Time\", \"Location Tag\", \"Source\", \"Condition\", \"Action\",\n",
    "        \"Priority\", \"Description\", \"Value\", \"Units\"\n",
    "    ]\n",
    "\n",
    "    # Convert 'Event Time' column to datetime\n",
    "    data['Event Time'] = pd.to_datetime(data['Event Time'], errors='coerce')\n",
    "\n",
    "    # Sort by datetime\n",
    "    data = data.sort_values(by='Event Time')\n",
    "\n",
    "    # Format datetime into AM/PM format\n",
    "    data['Event Time'] = data['Event Time'].dt.strftime('%m/%d/%Y %I:%M:%S %p')\n",
    "\n",
    "    # Reset index\n",
    "    data = data.reset_index(drop=True)\n",
    "\n",
    "    # Add processed data to list\n",
    "    all_data.append(data)\n",
    "\n",
    "# Merge all February DataFrames\n",
    "merged_data = pd.concat(all_data, ignore_index=True)\n",
    "\n",
    "# Save the combined result to a new CSV\n",
    "output_file = os.path.join(folder_path, \"All_Feb_Combined.csv\")\n",
    "merged_data.to_csv(output_file, index=False)\n",
    "\n",
    "print(f\"\\n✅ All February files merged and saved to: {output_file}\")\n"
   ]
  },
  {
   "cell_type": "code",
   "execution_count": 37,
   "id": "8575b0cd-92c9-4c43-aa0e-9c3dda8ea042",
   "metadata": {},
   "outputs": [
    {
     "name": "stderr",
     "output_type": "stream",
     "text": [
      "C:\\Users\\hmaba\\AppData\\Local\\Temp\\ipykernel_4016\\597434298.py:1: UserWarning: Could not infer format, so each element will be parsed individually, falling back to `dateutil`. To ensure parsing is consistent and as-expected, please specify a format.\n",
      "  merged_data['Event Time'] = pd.to_datetime(merged_data['Event Time'])\n"
     ]
    }
   ],
   "source": [
    "merged_data['Event Time'] = pd.to_datetime(merged_data['Event Time'])\n",
    "merged_data = merged_data.sort_values(by='Event Time').reset_index(drop=True)\n",
    "merged_data['Event Time'] = merged_data['Event Time'].dt.strftime('%m/%d/%Y %I:%M:%S %p')\n",
    "merged_data.to_csv(output_file, index=False)\n"
   ]
  },
  {
   "cell_type": "code",
   "execution_count": 42,
   "id": "72533fee-c366-4812-9d60-ad31991ec9d4",
   "metadata": {},
   "outputs": [
    {
     "name": "stdout",
     "output_type": "stream",
     "text": [
      "Processing file: ./PVC-I (Jan, Feb, Mar) EVENTS\\01March.csv\n"
     ]
    },
    {
     "name": "stderr",
     "output_type": "stream",
     "text": [
      "C:\\Users\\hmaba\\AppData\\Local\\Temp\\ipykernel_4016\\2905769966.py:27: UserWarning: Could not infer format, so each element will be parsed individually, falling back to `dateutil`. To ensure parsing is consistent and as-expected, please specify a format.\n",
      "  data['Event Time'] = pd.to_datetime(data['Event Time'], errors='coerce')\n"
     ]
    },
    {
     "name": "stdout",
     "output_type": "stream",
     "text": [
      "Processing file: ./PVC-I (Jan, Feb, Mar) EVENTS\\02March.csv\n"
     ]
    },
    {
     "name": "stderr",
     "output_type": "stream",
     "text": [
      "C:\\Users\\hmaba\\AppData\\Local\\Temp\\ipykernel_4016\\2905769966.py:27: UserWarning: Could not infer format, so each element will be parsed individually, falling back to `dateutil`. To ensure parsing is consistent and as-expected, please specify a format.\n",
      "  data['Event Time'] = pd.to_datetime(data['Event Time'], errors='coerce')\n"
     ]
    },
    {
     "name": "stdout",
     "output_type": "stream",
     "text": [
      "Processing file: ./PVC-I (Jan, Feb, Mar) EVENTS\\03March.csv\n"
     ]
    },
    {
     "name": "stderr",
     "output_type": "stream",
     "text": [
      "C:\\Users\\hmaba\\AppData\\Local\\Temp\\ipykernel_4016\\2905769966.py:27: UserWarning: Could not infer format, so each element will be parsed individually, falling back to `dateutil`. To ensure parsing is consistent and as-expected, please specify a format.\n",
      "  data['Event Time'] = pd.to_datetime(data['Event Time'], errors='coerce')\n"
     ]
    },
    {
     "name": "stdout",
     "output_type": "stream",
     "text": [
      "Processing file: ./PVC-I (Jan, Feb, Mar) EVENTS\\04March.csv\n"
     ]
    },
    {
     "name": "stderr",
     "output_type": "stream",
     "text": [
      "C:\\Users\\hmaba\\AppData\\Local\\Temp\\ipykernel_4016\\2905769966.py:27: UserWarning: Could not infer format, so each element will be parsed individually, falling back to `dateutil`. To ensure parsing is consistent and as-expected, please specify a format.\n",
      "  data['Event Time'] = pd.to_datetime(data['Event Time'], errors='coerce')\n"
     ]
    },
    {
     "name": "stdout",
     "output_type": "stream",
     "text": [
      "Processing file: ./PVC-I (Jan, Feb, Mar) EVENTS\\05March.csv\n"
     ]
    },
    {
     "name": "stderr",
     "output_type": "stream",
     "text": [
      "C:\\Users\\hmaba\\AppData\\Local\\Temp\\ipykernel_4016\\2905769966.py:27: UserWarning: Could not infer format, so each element will be parsed individually, falling back to `dateutil`. To ensure parsing is consistent and as-expected, please specify a format.\n",
      "  data['Event Time'] = pd.to_datetime(data['Event Time'], errors='coerce')\n"
     ]
    },
    {
     "name": "stdout",
     "output_type": "stream",
     "text": [
      "Processing file: ./PVC-I (Jan, Feb, Mar) EVENTS\\06March.csv\n"
     ]
    },
    {
     "name": "stderr",
     "output_type": "stream",
     "text": [
      "C:\\Users\\hmaba\\AppData\\Local\\Temp\\ipykernel_4016\\2905769966.py:27: UserWarning: Could not infer format, so each element will be parsed individually, falling back to `dateutil`. To ensure parsing is consistent and as-expected, please specify a format.\n",
      "  data['Event Time'] = pd.to_datetime(data['Event Time'], errors='coerce')\n"
     ]
    },
    {
     "name": "stdout",
     "output_type": "stream",
     "text": [
      "Processing file: ./PVC-I (Jan, Feb, Mar) EVENTS\\07March.csv\n"
     ]
    },
    {
     "name": "stderr",
     "output_type": "stream",
     "text": [
      "C:\\Users\\hmaba\\AppData\\Local\\Temp\\ipykernel_4016\\2905769966.py:27: UserWarning: Could not infer format, so each element will be parsed individually, falling back to `dateutil`. To ensure parsing is consistent and as-expected, please specify a format.\n",
      "  data['Event Time'] = pd.to_datetime(data['Event Time'], errors='coerce')\n"
     ]
    },
    {
     "name": "stdout",
     "output_type": "stream",
     "text": [
      "Processing file: ./PVC-I (Jan, Feb, Mar) EVENTS\\08March.csv\n"
     ]
    },
    {
     "name": "stderr",
     "output_type": "stream",
     "text": [
      "C:\\Users\\hmaba\\AppData\\Local\\Temp\\ipykernel_4016\\2905769966.py:27: UserWarning: Could not infer format, so each element will be parsed individually, falling back to `dateutil`. To ensure parsing is consistent and as-expected, please specify a format.\n",
      "  data['Event Time'] = pd.to_datetime(data['Event Time'], errors='coerce')\n"
     ]
    },
    {
     "name": "stdout",
     "output_type": "stream",
     "text": [
      "Processing file: ./PVC-I (Jan, Feb, Mar) EVENTS\\09March.csv\n"
     ]
    },
    {
     "name": "stderr",
     "output_type": "stream",
     "text": [
      "C:\\Users\\hmaba\\AppData\\Local\\Temp\\ipykernel_4016\\2905769966.py:27: UserWarning: Could not infer format, so each element will be parsed individually, falling back to `dateutil`. To ensure parsing is consistent and as-expected, please specify a format.\n",
      "  data['Event Time'] = pd.to_datetime(data['Event Time'], errors='coerce')\n"
     ]
    },
    {
     "name": "stdout",
     "output_type": "stream",
     "text": [
      "Processing file: ./PVC-I (Jan, Feb, Mar) EVENTS\\10March.csv\n"
     ]
    },
    {
     "name": "stderr",
     "output_type": "stream",
     "text": [
      "C:\\Users\\hmaba\\AppData\\Local\\Temp\\ipykernel_4016\\2905769966.py:27: UserWarning: Could not infer format, so each element will be parsed individually, falling back to `dateutil`. To ensure parsing is consistent and as-expected, please specify a format.\n",
      "  data['Event Time'] = pd.to_datetime(data['Event Time'], errors='coerce')\n"
     ]
    },
    {
     "name": "stdout",
     "output_type": "stream",
     "text": [
      "Processing file: ./PVC-I (Jan, Feb, Mar) EVENTS\\11March.csv\n"
     ]
    },
    {
     "name": "stderr",
     "output_type": "stream",
     "text": [
      "C:\\Users\\hmaba\\AppData\\Local\\Temp\\ipykernel_4016\\2905769966.py:27: UserWarning: Could not infer format, so each element will be parsed individually, falling back to `dateutil`. To ensure parsing is consistent and as-expected, please specify a format.\n",
      "  data['Event Time'] = pd.to_datetime(data['Event Time'], errors='coerce')\n"
     ]
    },
    {
     "name": "stdout",
     "output_type": "stream",
     "text": [
      "Processing file: ./PVC-I (Jan, Feb, Mar) EVENTS\\12March.csv\n"
     ]
    },
    {
     "name": "stderr",
     "output_type": "stream",
     "text": [
      "C:\\Users\\hmaba\\AppData\\Local\\Temp\\ipykernel_4016\\2905769966.py:27: UserWarning: Could not infer format, so each element will be parsed individually, falling back to `dateutil`. To ensure parsing is consistent and as-expected, please specify a format.\n",
      "  data['Event Time'] = pd.to_datetime(data['Event Time'], errors='coerce')\n"
     ]
    },
    {
     "name": "stdout",
     "output_type": "stream",
     "text": [
      "Processing file: ./PVC-I (Jan, Feb, Mar) EVENTS\\13March.csv\n"
     ]
    },
    {
     "name": "stderr",
     "output_type": "stream",
     "text": [
      "C:\\Users\\hmaba\\AppData\\Local\\Temp\\ipykernel_4016\\2905769966.py:27: UserWarning: Could not infer format, so each element will be parsed individually, falling back to `dateutil`. To ensure parsing is consistent and as-expected, please specify a format.\n",
      "  data['Event Time'] = pd.to_datetime(data['Event Time'], errors='coerce')\n"
     ]
    },
    {
     "name": "stdout",
     "output_type": "stream",
     "text": [
      "Processing file: ./PVC-I (Jan, Feb, Mar) EVENTS\\14March.csv\n"
     ]
    },
    {
     "name": "stderr",
     "output_type": "stream",
     "text": [
      "C:\\Users\\hmaba\\AppData\\Local\\Temp\\ipykernel_4016\\2905769966.py:27: UserWarning: Could not infer format, so each element will be parsed individually, falling back to `dateutil`. To ensure parsing is consistent and as-expected, please specify a format.\n",
      "  data['Event Time'] = pd.to_datetime(data['Event Time'], errors='coerce')\n"
     ]
    },
    {
     "name": "stdout",
     "output_type": "stream",
     "text": [
      "Processing file: ./PVC-I (Jan, Feb, Mar) EVENTS\\15March.csv\n"
     ]
    },
    {
     "name": "stderr",
     "output_type": "stream",
     "text": [
      "C:\\Users\\hmaba\\AppData\\Local\\Temp\\ipykernel_4016\\2905769966.py:27: UserWarning: Could not infer format, so each element will be parsed individually, falling back to `dateutil`. To ensure parsing is consistent and as-expected, please specify a format.\n",
      "  data['Event Time'] = pd.to_datetime(data['Event Time'], errors='coerce')\n"
     ]
    },
    {
     "name": "stdout",
     "output_type": "stream",
     "text": [
      "Processing file: ./PVC-I (Jan, Feb, Mar) EVENTS\\16March.csv\n"
     ]
    },
    {
     "name": "stderr",
     "output_type": "stream",
     "text": [
      "C:\\Users\\hmaba\\AppData\\Local\\Temp\\ipykernel_4016\\2905769966.py:27: UserWarning: Could not infer format, so each element will be parsed individually, falling back to `dateutil`. To ensure parsing is consistent and as-expected, please specify a format.\n",
      "  data['Event Time'] = pd.to_datetime(data['Event Time'], errors='coerce')\n"
     ]
    },
    {
     "name": "stdout",
     "output_type": "stream",
     "text": [
      "Processing file: ./PVC-I (Jan, Feb, Mar) EVENTS\\17march.csv\n"
     ]
    },
    {
     "name": "stderr",
     "output_type": "stream",
     "text": [
      "C:\\Users\\hmaba\\AppData\\Local\\Temp\\ipykernel_4016\\2905769966.py:27: UserWarning: Could not infer format, so each element will be parsed individually, falling back to `dateutil`. To ensure parsing is consistent and as-expected, please specify a format.\n",
      "  data['Event Time'] = pd.to_datetime(data['Event Time'], errors='coerce')\n"
     ]
    },
    {
     "name": "stdout",
     "output_type": "stream",
     "text": [
      "\n",
      "✅ All March files merged and saved to: ./PVC-I (Jan, Feb, Mar) EVENTS/All_March_Combined.csv\n"
     ]
    }
   ],
   "source": [
    "import pandas as pd\n",
    "import glob\n",
    "import os\n",
    "\n",
    "# Directory where your CSVs are stored\n",
    "folder_path = \"./PVC-I (Jan, Feb, Mar) EVENTS/\"\n",
    "\n",
    "# Find all February CSV files (filenames like 01feb.csv, 02feb.csv, etc.)\n",
    "csv_files = glob.glob(os.path.join(folder_path, \"*march.csv\"))\n",
    "\n",
    "# List to collect all processed DataFrames\n",
    "all_data = []\n",
    "\n",
    "for file in csv_files:\n",
    "    print(f\"Processing file: {file}\")\n",
    "\n",
    "    # Read CSV while skipping metadata rows\n",
    "    data = pd.read_csv(file, skiprows=6, on_bad_lines='skip')\n",
    "\n",
    "    # Rename columns\n",
    "    data.columns = [\n",
    "        \"Event Time\", \"Location Tag\", \"Source\", \"Condition\", \"Action\",\n",
    "        \"Priority\", \"Description\", \"Value\", \"Units\"\n",
    "    ]\n",
    "\n",
    "    # Convert 'Event Time' column to datetime\n",
    "    data['Event Time'] = pd.to_datetime(data['Event Time'], errors='coerce')\n",
    "\n",
    "    # Sort by datetime\n",
    "    data = data.sort_values(by='Event Time')\n",
    "\n",
    "    # Format datetime into AM/PM format\n",
    "    data['Event Time'] = data['Event Time'].dt.strftime('%m/%d/%Y %I:%M:%S %p')\n",
    "\n",
    "    # Reset index\n",
    "    data = data.reset_index(drop=True)\n",
    "\n",
    "    # Add processed data to list\n",
    "    all_data.append(data)\n",
    "\n",
    "# Merge all February DataFrames\n",
    "merged_data = pd.concat(all_data, ignore_index=True)\n",
    "\n",
    "# Save the combined result to a new CSV\n",
    "output_file = os.path.join(folder_path, \"All_March_Combined.csv\")\n",
    "merged_data.to_csv(output_file, index=False)\n",
    "\n",
    "print(f\"\\n✅ All March files merged and saved to: {output_file}\")\n"
   ]
  },
  {
   "cell_type": "code",
   "execution_count": 43,
   "id": "a5d7550a-2686-4668-8d5d-d2b3796f455e",
   "metadata": {},
   "outputs": [
    {
     "name": "stderr",
     "output_type": "stream",
     "text": [
      "C:\\Users\\hmaba\\AppData\\Local\\Temp\\ipykernel_4016\\597434298.py:1: UserWarning: Could not infer format, so each element will be parsed individually, falling back to `dateutil`. To ensure parsing is consistent and as-expected, please specify a format.\n",
      "  merged_data['Event Time'] = pd.to_datetime(merged_data['Event Time'])\n"
     ]
    }
   ],
   "source": [
    "merged_data['Event Time'] = pd.to_datetime(merged_data['Event Time'])\n",
    "merged_data = merged_data.sort_values(by='Event Time').reset_index(drop=True)\n",
    "merged_data['Event Time'] = merged_data['Event Time'].dt.strftime('%m/%d/%Y %I:%M:%S %p')\n",
    "merged_data.to_csv(output_file, index=False)\n"
   ]
  },
  {
   "cell_type": "code",
   "execution_count": 44,
   "id": "c2bc6ee1-b2b4-4470-b231-7c372642d16c",
   "metadata": {},
   "outputs": [
    {
     "name": "stdout",
     "output_type": "stream",
     "text": [
      "Processing file: ./PVC-I (Jan, Feb, Mar) EVENTS\\04jan.csv\n"
     ]
    },
    {
     "name": "stderr",
     "output_type": "stream",
     "text": [
      "C:\\Users\\hmaba\\AppData\\Local\\Temp\\ipykernel_4016\\4178054909.py:27: UserWarning: Could not infer format, so each element will be parsed individually, falling back to `dateutil`. To ensure parsing is consistent and as-expected, please specify a format.\n",
      "  data['Event Time'] = pd.to_datetime(data['Event Time'], errors='coerce')\n"
     ]
    },
    {
     "name": "stdout",
     "output_type": "stream",
     "text": [
      "Processing file: ./PVC-I (Jan, Feb, Mar) EVENTS\\05jan.csv\n"
     ]
    },
    {
     "name": "stderr",
     "output_type": "stream",
     "text": [
      "C:\\Users\\hmaba\\AppData\\Local\\Temp\\ipykernel_4016\\4178054909.py:27: UserWarning: Could not infer format, so each element will be parsed individually, falling back to `dateutil`. To ensure parsing is consistent and as-expected, please specify a format.\n",
      "  data['Event Time'] = pd.to_datetime(data['Event Time'], errors='coerce')\n"
     ]
    },
    {
     "name": "stdout",
     "output_type": "stream",
     "text": [
      "Processing file: ./PVC-I (Jan, Feb, Mar) EVENTS\\08jan.csv\n"
     ]
    },
    {
     "name": "stderr",
     "output_type": "stream",
     "text": [
      "C:\\Users\\hmaba\\AppData\\Local\\Temp\\ipykernel_4016\\4178054909.py:27: UserWarning: Could not infer format, so each element will be parsed individually, falling back to `dateutil`. To ensure parsing is consistent and as-expected, please specify a format.\n",
      "  data['Event Time'] = pd.to_datetime(data['Event Time'], errors='coerce')\n"
     ]
    },
    {
     "name": "stdout",
     "output_type": "stream",
     "text": [
      "Processing file: ./PVC-I (Jan, Feb, Mar) EVENTS\\10jan.csv\n"
     ]
    },
    {
     "name": "stderr",
     "output_type": "stream",
     "text": [
      "C:\\Users\\hmaba\\AppData\\Local\\Temp\\ipykernel_4016\\4178054909.py:27: UserWarning: Could not infer format, so each element will be parsed individually, falling back to `dateutil`. To ensure parsing is consistent and as-expected, please specify a format.\n",
      "  data['Event Time'] = pd.to_datetime(data['Event Time'], errors='coerce')\n"
     ]
    },
    {
     "name": "stdout",
     "output_type": "stream",
     "text": [
      "Processing file: ./PVC-I (Jan, Feb, Mar) EVENTS\\11jan.csv\n"
     ]
    },
    {
     "name": "stderr",
     "output_type": "stream",
     "text": [
      "C:\\Users\\hmaba\\AppData\\Local\\Temp\\ipykernel_4016\\4178054909.py:27: UserWarning: Could not infer format, so each element will be parsed individually, falling back to `dateutil`. To ensure parsing is consistent and as-expected, please specify a format.\n",
      "  data['Event Time'] = pd.to_datetime(data['Event Time'], errors='coerce')\n"
     ]
    },
    {
     "name": "stdout",
     "output_type": "stream",
     "text": [
      "Processing file: ./PVC-I (Jan, Feb, Mar) EVENTS\\12jan.csv\n"
     ]
    },
    {
     "name": "stderr",
     "output_type": "stream",
     "text": [
      "C:\\Users\\hmaba\\AppData\\Local\\Temp\\ipykernel_4016\\4178054909.py:27: UserWarning: Could not infer format, so each element will be parsed individually, falling back to `dateutil`. To ensure parsing is consistent and as-expected, please specify a format.\n",
      "  data['Event Time'] = pd.to_datetime(data['Event Time'], errors='coerce')\n"
     ]
    },
    {
     "name": "stdout",
     "output_type": "stream",
     "text": [
      "Processing file: ./PVC-I (Jan, Feb, Mar) EVENTS\\13jan.csv\n"
     ]
    },
    {
     "name": "stderr",
     "output_type": "stream",
     "text": [
      "C:\\Users\\hmaba\\AppData\\Local\\Temp\\ipykernel_4016\\4178054909.py:27: UserWarning: Could not infer format, so each element will be parsed individually, falling back to `dateutil`. To ensure parsing is consistent and as-expected, please specify a format.\n",
      "  data['Event Time'] = pd.to_datetime(data['Event Time'], errors='coerce')\n"
     ]
    },
    {
     "name": "stdout",
     "output_type": "stream",
     "text": [
      "Processing file: ./PVC-I (Jan, Feb, Mar) EVENTS\\14jan.csv\n"
     ]
    },
    {
     "name": "stderr",
     "output_type": "stream",
     "text": [
      "C:\\Users\\hmaba\\AppData\\Local\\Temp\\ipykernel_4016\\4178054909.py:27: UserWarning: Could not infer format, so each element will be parsed individually, falling back to `dateutil`. To ensure parsing is consistent and as-expected, please specify a format.\n",
      "  data['Event Time'] = pd.to_datetime(data['Event Time'], errors='coerce')\n"
     ]
    },
    {
     "name": "stdout",
     "output_type": "stream",
     "text": [
      "Processing file: ./PVC-I (Jan, Feb, Mar) EVENTS\\15jan.csv\n"
     ]
    },
    {
     "name": "stderr",
     "output_type": "stream",
     "text": [
      "C:\\Users\\hmaba\\AppData\\Local\\Temp\\ipykernel_4016\\4178054909.py:27: UserWarning: Could not infer format, so each element will be parsed individually, falling back to `dateutil`. To ensure parsing is consistent and as-expected, please specify a format.\n",
      "  data['Event Time'] = pd.to_datetime(data['Event Time'], errors='coerce')\n"
     ]
    },
    {
     "name": "stdout",
     "output_type": "stream",
     "text": [
      "Processing file: ./PVC-I (Jan, Feb, Mar) EVENTS\\16jan.csv\n"
     ]
    },
    {
     "name": "stderr",
     "output_type": "stream",
     "text": [
      "C:\\Users\\hmaba\\AppData\\Local\\Temp\\ipykernel_4016\\4178054909.py:27: UserWarning: Could not infer format, so each element will be parsed individually, falling back to `dateutil`. To ensure parsing is consistent and as-expected, please specify a format.\n",
      "  data['Event Time'] = pd.to_datetime(data['Event Time'], errors='coerce')\n"
     ]
    },
    {
     "name": "stdout",
     "output_type": "stream",
     "text": [
      "Processing file: ./PVC-I (Jan, Feb, Mar) EVENTS\\17jan.csv\n"
     ]
    },
    {
     "name": "stderr",
     "output_type": "stream",
     "text": [
      "C:\\Users\\hmaba\\AppData\\Local\\Temp\\ipykernel_4016\\4178054909.py:27: UserWarning: Could not infer format, so each element will be parsed individually, falling back to `dateutil`. To ensure parsing is consistent and as-expected, please specify a format.\n",
      "  data['Event Time'] = pd.to_datetime(data['Event Time'], errors='coerce')\n"
     ]
    },
    {
     "name": "stdout",
     "output_type": "stream",
     "text": [
      "Processing file: ./PVC-I (Jan, Feb, Mar) EVENTS\\18jan.csv\n"
     ]
    },
    {
     "name": "stderr",
     "output_type": "stream",
     "text": [
      "C:\\Users\\hmaba\\AppData\\Local\\Temp\\ipykernel_4016\\4178054909.py:27: UserWarning: Could not infer format, so each element will be parsed individually, falling back to `dateutil`. To ensure parsing is consistent and as-expected, please specify a format.\n",
      "  data['Event Time'] = pd.to_datetime(data['Event Time'], errors='coerce')\n"
     ]
    },
    {
     "name": "stdout",
     "output_type": "stream",
     "text": [
      "Processing file: ./PVC-I (Jan, Feb, Mar) EVENTS\\19jan.csv\n"
     ]
    },
    {
     "name": "stderr",
     "output_type": "stream",
     "text": [
      "C:\\Users\\hmaba\\AppData\\Local\\Temp\\ipykernel_4016\\4178054909.py:27: UserWarning: Could not infer format, so each element will be parsed individually, falling back to `dateutil`. To ensure parsing is consistent and as-expected, please specify a format.\n",
      "  data['Event Time'] = pd.to_datetime(data['Event Time'], errors='coerce')\n"
     ]
    },
    {
     "name": "stdout",
     "output_type": "stream",
     "text": [
      "Processing file: ./PVC-I (Jan, Feb, Mar) EVENTS\\1jan.csv\n"
     ]
    },
    {
     "name": "stderr",
     "output_type": "stream",
     "text": [
      "C:\\Users\\hmaba\\AppData\\Local\\Temp\\ipykernel_4016\\4178054909.py:27: UserWarning: Could not infer format, so each element will be parsed individually, falling back to `dateutil`. To ensure parsing is consistent and as-expected, please specify a format.\n",
      "  data['Event Time'] = pd.to_datetime(data['Event Time'], errors='coerce')\n"
     ]
    },
    {
     "name": "stdout",
     "output_type": "stream",
     "text": [
      "Processing file: ./PVC-I (Jan, Feb, Mar) EVENTS\\20jan.csv\n"
     ]
    },
    {
     "name": "stderr",
     "output_type": "stream",
     "text": [
      "C:\\Users\\hmaba\\AppData\\Local\\Temp\\ipykernel_4016\\4178054909.py:27: UserWarning: Could not infer format, so each element will be parsed individually, falling back to `dateutil`. To ensure parsing is consistent and as-expected, please specify a format.\n",
      "  data['Event Time'] = pd.to_datetime(data['Event Time'], errors='coerce')\n"
     ]
    },
    {
     "name": "stdout",
     "output_type": "stream",
     "text": [
      "Processing file: ./PVC-I (Jan, Feb, Mar) EVENTS\\21jan.csv\n"
     ]
    },
    {
     "ename": "ValueError",
     "evalue": "Length mismatch: Expected axis has 10 elements, new values have 9 elements",
     "output_type": "error",
     "traceback": [
      "\u001b[31m---------------------------------------------------------------------------\u001b[39m",
      "\u001b[31mValueError\u001b[39m                                Traceback (most recent call last)",
      "\u001b[36mCell\u001b[39m\u001b[36m \u001b[39m\u001b[32mIn[44]\u001b[39m\u001b[32m, line 21\u001b[39m\n\u001b[32m     18\u001b[39m data = pd.read_csv(file, skiprows=\u001b[32m6\u001b[39m, on_bad_lines=\u001b[33m'\u001b[39m\u001b[33mskip\u001b[39m\u001b[33m'\u001b[39m)\n\u001b[32m     20\u001b[39m \u001b[38;5;66;03m# Rename columns\u001b[39;00m\n\u001b[32m---> \u001b[39m\u001b[32m21\u001b[39m \u001b[43mdata\u001b[49m\u001b[43m.\u001b[49m\u001b[43mcolumns\u001b[49m = [\n\u001b[32m     22\u001b[39m     \u001b[33m\"\u001b[39m\u001b[33mEvent Time\u001b[39m\u001b[33m\"\u001b[39m, \u001b[33m\"\u001b[39m\u001b[33mLocation Tag\u001b[39m\u001b[33m\"\u001b[39m, \u001b[33m\"\u001b[39m\u001b[33mSource\u001b[39m\u001b[33m\"\u001b[39m, \u001b[33m\"\u001b[39m\u001b[33mCondition\u001b[39m\u001b[33m\"\u001b[39m, \u001b[33m\"\u001b[39m\u001b[33mAction\u001b[39m\u001b[33m\"\u001b[39m,\n\u001b[32m     23\u001b[39m     \u001b[33m\"\u001b[39m\u001b[33mPriority\u001b[39m\u001b[33m\"\u001b[39m, \u001b[33m\"\u001b[39m\u001b[33mDescription\u001b[39m\u001b[33m\"\u001b[39m, \u001b[33m\"\u001b[39m\u001b[33mValue\u001b[39m\u001b[33m\"\u001b[39m, \u001b[33m\"\u001b[39m\u001b[33mUnits\u001b[39m\u001b[33m\"\u001b[39m\n\u001b[32m     24\u001b[39m ]\n\u001b[32m     26\u001b[39m \u001b[38;5;66;03m# Convert 'Event Time' column to datetime\u001b[39;00m\n\u001b[32m     27\u001b[39m data[\u001b[33m'\u001b[39m\u001b[33mEvent Time\u001b[39m\u001b[33m'\u001b[39m] = pd.to_datetime(data[\u001b[33m'\u001b[39m\u001b[33mEvent Time\u001b[39m\u001b[33m'\u001b[39m], errors=\u001b[33m'\u001b[39m\u001b[33mcoerce\u001b[39m\u001b[33m'\u001b[39m)\n",
      "\u001b[36mFile \u001b[39m\u001b[32mD:\\Cybergen\\engro project\\alarm_system_RND\\evnv\\Lib\\site-packages\\pandas\\core\\generic.py:6335\u001b[39m, in \u001b[36mNDFrame.__setattr__\u001b[39m\u001b[34m(self, name, value)\u001b[39m\n\u001b[32m   6333\u001b[39m \u001b[38;5;28;01mtry\u001b[39;00m:\n\u001b[32m   6334\u001b[39m     \u001b[38;5;28mobject\u001b[39m.\u001b[34m__getattribute__\u001b[39m(\u001b[38;5;28mself\u001b[39m, name)\n\u001b[32m-> \u001b[39m\u001b[32m6335\u001b[39m     \u001b[38;5;28;01mreturn\u001b[39;00m \u001b[38;5;28;43mobject\u001b[39;49m\u001b[43m.\u001b[49m\u001b[34;43m__setattr__\u001b[39;49m\u001b[43m(\u001b[49m\u001b[38;5;28;43mself\u001b[39;49m\u001b[43m,\u001b[49m\u001b[43m \u001b[49m\u001b[43mname\u001b[49m\u001b[43m,\u001b[49m\u001b[43m \u001b[49m\u001b[43mvalue\u001b[49m\u001b[43m)\u001b[49m\n\u001b[32m   6336\u001b[39m \u001b[38;5;28;01mexcept\u001b[39;00m \u001b[38;5;167;01mAttributeError\u001b[39;00m:\n\u001b[32m   6337\u001b[39m     \u001b[38;5;28;01mpass\u001b[39;00m\n",
      "\u001b[36mFile \u001b[39m\u001b[32mpandas/_libs/properties.pyx:69\u001b[39m, in \u001b[36mpandas._libs.properties.AxisProperty.__set__\u001b[39m\u001b[34m()\u001b[39m\n",
      "\u001b[36mFile \u001b[39m\u001b[32mD:\\Cybergen\\engro project\\alarm_system_RND\\evnv\\Lib\\site-packages\\pandas\\core\\generic.py:817\u001b[39m, in \u001b[36mNDFrame._set_axis\u001b[39m\u001b[34m(self, axis, labels)\u001b[39m\n\u001b[32m    812\u001b[39m \u001b[38;5;250m\u001b[39m\u001b[33;03m\"\"\"\u001b[39;00m\n\u001b[32m    813\u001b[39m \u001b[33;03mThis is called from the cython code when we set the `index` attribute\u001b[39;00m\n\u001b[32m    814\u001b[39m \u001b[33;03mdirectly, e.g. `series.index = [1, 2, 3]`.\u001b[39;00m\n\u001b[32m    815\u001b[39m \u001b[33;03m\"\"\"\u001b[39;00m\n\u001b[32m    816\u001b[39m labels = ensure_index(labels)\n\u001b[32m--> \u001b[39m\u001b[32m817\u001b[39m \u001b[38;5;28;43mself\u001b[39;49m\u001b[43m.\u001b[49m\u001b[43m_mgr\u001b[49m\u001b[43m.\u001b[49m\u001b[43mset_axis\u001b[49m\u001b[43m(\u001b[49m\u001b[43maxis\u001b[49m\u001b[43m,\u001b[49m\u001b[43m \u001b[49m\u001b[43mlabels\u001b[49m\u001b[43m)\u001b[49m\n\u001b[32m    818\u001b[39m \u001b[38;5;28mself\u001b[39m._clear_item_cache()\n",
      "\u001b[36mFile \u001b[39m\u001b[32mD:\\Cybergen\\engro project\\alarm_system_RND\\evnv\\Lib\\site-packages\\pandas\\core\\internals\\managers.py:238\u001b[39m, in \u001b[36mBaseBlockManager.set_axis\u001b[39m\u001b[34m(self, axis, new_labels)\u001b[39m\n\u001b[32m    236\u001b[39m \u001b[38;5;28;01mdef\u001b[39;00m\u001b[38;5;250m \u001b[39m\u001b[34mset_axis\u001b[39m(\u001b[38;5;28mself\u001b[39m, axis: AxisInt, new_labels: Index) -> \u001b[38;5;28;01mNone\u001b[39;00m:\n\u001b[32m    237\u001b[39m     \u001b[38;5;66;03m# Caller is responsible for ensuring we have an Index object.\u001b[39;00m\n\u001b[32m--> \u001b[39m\u001b[32m238\u001b[39m     \u001b[38;5;28;43mself\u001b[39;49m\u001b[43m.\u001b[49m\u001b[43m_validate_set_axis\u001b[49m\u001b[43m(\u001b[49m\u001b[43maxis\u001b[49m\u001b[43m,\u001b[49m\u001b[43m \u001b[49m\u001b[43mnew_labels\u001b[49m\u001b[43m)\u001b[49m\n\u001b[32m    239\u001b[39m     \u001b[38;5;28mself\u001b[39m.axes[axis] = new_labels\n",
      "\u001b[36mFile \u001b[39m\u001b[32mD:\\Cybergen\\engro project\\alarm_system_RND\\evnv\\Lib\\site-packages\\pandas\\core\\internals\\base.py:98\u001b[39m, in \u001b[36mDataManager._validate_set_axis\u001b[39m\u001b[34m(self, axis, new_labels)\u001b[39m\n\u001b[32m     95\u001b[39m     \u001b[38;5;28;01mpass\u001b[39;00m\n\u001b[32m     97\u001b[39m \u001b[38;5;28;01melif\u001b[39;00m new_len != old_len:\n\u001b[32m---> \u001b[39m\u001b[32m98\u001b[39m     \u001b[38;5;28;01mraise\u001b[39;00m \u001b[38;5;167;01mValueError\u001b[39;00m(\n\u001b[32m     99\u001b[39m         \u001b[33mf\u001b[39m\u001b[33m\"\u001b[39m\u001b[33mLength mismatch: Expected axis has \u001b[39m\u001b[38;5;132;01m{\u001b[39;00mold_len\u001b[38;5;132;01m}\u001b[39;00m\u001b[33m elements, new \u001b[39m\u001b[33m\"\u001b[39m\n\u001b[32m    100\u001b[39m         \u001b[33mf\u001b[39m\u001b[33m\"\u001b[39m\u001b[33mvalues have \u001b[39m\u001b[38;5;132;01m{\u001b[39;00mnew_len\u001b[38;5;132;01m}\u001b[39;00m\u001b[33m elements\u001b[39m\u001b[33m\"\u001b[39m\n\u001b[32m    101\u001b[39m     )\n",
      "\u001b[31mValueError\u001b[39m: Length mismatch: Expected axis has 10 elements, new values have 9 elements"
     ]
    }
   ],
   "source": [
    "import pandas as pd\n",
    "import glob\n",
    "import os\n",
    "\n",
    "# Directory where your CSVs are stored\n",
    "folder_path = \"./PVC-I (Jan, Feb, Mar) EVENTS/\"\n",
    "\n",
    "# Find all February CSV files (filenames like 01feb.csv, 02feb.csv, etc.)\n",
    "csv_files = glob.glob(os.path.join(folder_path, \"*jan.csv\"))\n",
    "\n",
    "# List to collect all processed DataFrames\n",
    "all_data = []\n",
    "\n",
    "for file in csv_files:\n",
    "    print(f\"Processing file: {file}\")\n",
    "\n",
    "    # Read CSV while skipping metadata rows\n",
    "    data = pd.read_csv(file, skiprows=6, on_bad_lines='skip')\n",
    "\n",
    "    # Rename columns\n",
    "    data.columns = [\n",
    "        \"Event Time\", \"Location Tag\", \"Source\", \"Condition\", \"Action\",\n",
    "        \"Priority\", \"Description\", \"Value\", \"Units\"\n",
    "    ]\n",
    "\n",
    "    # Convert 'Event Time' column to datetime\n",
    "    data['Event Time'] = pd.to_datetime(data['Event Time'], errors='coerce')\n",
    "\n",
    "    # Sort by datetime\n",
    "    data = data.sort_values(by='Event Time')\n",
    "\n",
    "    # Format datetime into AM/PM format\n",
    "    data['Event Time'] = data['Event Time'].dt.strftime('%m/%d/%Y %I:%M:%S %p')\n",
    "\n",
    "    # Reset index\n",
    "    data = data.reset_index(drop=True)\n",
    "\n",
    "    # Add processed data to list\n",
    "    all_data.append(data)\n",
    "\n",
    "# Merge all February DataFrames\n",
    "merged_data = pd.concat(all_data, ignore_index=True)\n",
    "\n",
    "# Save the combined result to a new CSV\n",
    "output_file = os.path.join(folder_path, \"All_jan_Combined.csv\")\n",
    "merged_data.to_csv(output_file, index=False)\n",
    "\n",
    "print(f\"\\n✅ All Jan files merged and saved to: {output_file}\")\n"
   ]
  },
  {
   "cell_type": "code",
   "execution_count": 49,
   "id": "91b03959-c04d-484e-b5eb-0873fcda9e52",
   "metadata": {},
   "outputs": [
    {
     "name": "stdout",
     "output_type": "stream",
     "text": [
      "📂 Processing file: 04jan.csv\n"
     ]
    },
    {
     "name": "stderr",
     "output_type": "stream",
     "text": [
      "C:\\Users\\hmaba\\AppData\\Local\\Temp\\ipykernel_4016\\90506033.py:30: UserWarning: Could not infer format, so each element will be parsed individually, falling back to `dateutil`. To ensure parsing is consistent and as-expected, please specify a format.\n",
      "  data['Event Time'] = pd.to_datetime(data['Event Time'], errors='coerce')\n"
     ]
    },
    {
     "name": "stdout",
     "output_type": "stream",
     "text": [
      "📂 Processing file: 05jan.csv\n"
     ]
    },
    {
     "name": "stderr",
     "output_type": "stream",
     "text": [
      "C:\\Users\\hmaba\\AppData\\Local\\Temp\\ipykernel_4016\\90506033.py:30: UserWarning: Could not infer format, so each element will be parsed individually, falling back to `dateutil`. To ensure parsing is consistent and as-expected, please specify a format.\n",
      "  data['Event Time'] = pd.to_datetime(data['Event Time'], errors='coerce')\n"
     ]
    },
    {
     "name": "stdout",
     "output_type": "stream",
     "text": [
      "📂 Processing file: 08jan.csv\n"
     ]
    },
    {
     "name": "stderr",
     "output_type": "stream",
     "text": [
      "C:\\Users\\hmaba\\AppData\\Local\\Temp\\ipykernel_4016\\90506033.py:30: UserWarning: Could not infer format, so each element will be parsed individually, falling back to `dateutil`. To ensure parsing is consistent and as-expected, please specify a format.\n",
      "  data['Event Time'] = pd.to_datetime(data['Event Time'], errors='coerce')\n"
     ]
    },
    {
     "name": "stdout",
     "output_type": "stream",
     "text": [
      "📂 Processing file: 10jan.csv\n"
     ]
    },
    {
     "name": "stderr",
     "output_type": "stream",
     "text": [
      "C:\\Users\\hmaba\\AppData\\Local\\Temp\\ipykernel_4016\\90506033.py:30: UserWarning: Could not infer format, so each element will be parsed individually, falling back to `dateutil`. To ensure parsing is consistent and as-expected, please specify a format.\n",
      "  data['Event Time'] = pd.to_datetime(data['Event Time'], errors='coerce')\n"
     ]
    },
    {
     "name": "stdout",
     "output_type": "stream",
     "text": [
      "📂 Processing file: 11jan.csv\n"
     ]
    },
    {
     "name": "stderr",
     "output_type": "stream",
     "text": [
      "C:\\Users\\hmaba\\AppData\\Local\\Temp\\ipykernel_4016\\90506033.py:30: UserWarning: Could not infer format, so each element will be parsed individually, falling back to `dateutil`. To ensure parsing is consistent and as-expected, please specify a format.\n",
      "  data['Event Time'] = pd.to_datetime(data['Event Time'], errors='coerce')\n"
     ]
    },
    {
     "name": "stdout",
     "output_type": "stream",
     "text": [
      "📂 Processing file: 12jan.csv\n"
     ]
    },
    {
     "name": "stderr",
     "output_type": "stream",
     "text": [
      "C:\\Users\\hmaba\\AppData\\Local\\Temp\\ipykernel_4016\\90506033.py:30: UserWarning: Could not infer format, so each element will be parsed individually, falling back to `dateutil`. To ensure parsing is consistent and as-expected, please specify a format.\n",
      "  data['Event Time'] = pd.to_datetime(data['Event Time'], errors='coerce')\n"
     ]
    },
    {
     "name": "stdout",
     "output_type": "stream",
     "text": [
      "📂 Processing file: 13jan.csv\n"
     ]
    },
    {
     "name": "stderr",
     "output_type": "stream",
     "text": [
      "C:\\Users\\hmaba\\AppData\\Local\\Temp\\ipykernel_4016\\90506033.py:30: UserWarning: Could not infer format, so each element will be parsed individually, falling back to `dateutil`. To ensure parsing is consistent and as-expected, please specify a format.\n",
      "  data['Event Time'] = pd.to_datetime(data['Event Time'], errors='coerce')\n"
     ]
    },
    {
     "name": "stdout",
     "output_type": "stream",
     "text": [
      "📂 Processing file: 14jan.csv\n"
     ]
    },
    {
     "name": "stderr",
     "output_type": "stream",
     "text": [
      "C:\\Users\\hmaba\\AppData\\Local\\Temp\\ipykernel_4016\\90506033.py:30: UserWarning: Could not infer format, so each element will be parsed individually, falling back to `dateutil`. To ensure parsing is consistent and as-expected, please specify a format.\n",
      "  data['Event Time'] = pd.to_datetime(data['Event Time'], errors='coerce')\n"
     ]
    },
    {
     "name": "stdout",
     "output_type": "stream",
     "text": [
      "📂 Processing file: 15jan.csv\n"
     ]
    },
    {
     "name": "stderr",
     "output_type": "stream",
     "text": [
      "C:\\Users\\hmaba\\AppData\\Local\\Temp\\ipykernel_4016\\90506033.py:30: UserWarning: Could not infer format, so each element will be parsed individually, falling back to `dateutil`. To ensure parsing is consistent and as-expected, please specify a format.\n",
      "  data['Event Time'] = pd.to_datetime(data['Event Time'], errors='coerce')\n"
     ]
    },
    {
     "name": "stdout",
     "output_type": "stream",
     "text": [
      "📂 Processing file: 16jan.csv\n"
     ]
    },
    {
     "name": "stderr",
     "output_type": "stream",
     "text": [
      "C:\\Users\\hmaba\\AppData\\Local\\Temp\\ipykernel_4016\\90506033.py:30: UserWarning: Could not infer format, so each element will be parsed individually, falling back to `dateutil`. To ensure parsing is consistent and as-expected, please specify a format.\n",
      "  data['Event Time'] = pd.to_datetime(data['Event Time'], errors='coerce')\n"
     ]
    },
    {
     "name": "stdout",
     "output_type": "stream",
     "text": [
      "📂 Processing file: 17jan.csv\n"
     ]
    },
    {
     "name": "stderr",
     "output_type": "stream",
     "text": [
      "C:\\Users\\hmaba\\AppData\\Local\\Temp\\ipykernel_4016\\90506033.py:30: UserWarning: Could not infer format, so each element will be parsed individually, falling back to `dateutil`. To ensure parsing is consistent and as-expected, please specify a format.\n",
      "  data['Event Time'] = pd.to_datetime(data['Event Time'], errors='coerce')\n"
     ]
    },
    {
     "name": "stdout",
     "output_type": "stream",
     "text": [
      "📂 Processing file: 18jan.csv\n"
     ]
    },
    {
     "name": "stderr",
     "output_type": "stream",
     "text": [
      "C:\\Users\\hmaba\\AppData\\Local\\Temp\\ipykernel_4016\\90506033.py:30: UserWarning: Could not infer format, so each element will be parsed individually, falling back to `dateutil`. To ensure parsing is consistent and as-expected, please specify a format.\n",
      "  data['Event Time'] = pd.to_datetime(data['Event Time'], errors='coerce')\n"
     ]
    },
    {
     "name": "stdout",
     "output_type": "stream",
     "text": [
      "📂 Processing file: 19jan.csv\n"
     ]
    },
    {
     "name": "stderr",
     "output_type": "stream",
     "text": [
      "C:\\Users\\hmaba\\AppData\\Local\\Temp\\ipykernel_4016\\90506033.py:30: UserWarning: Could not infer format, so each element will be parsed individually, falling back to `dateutil`. To ensure parsing is consistent and as-expected, please specify a format.\n",
      "  data['Event Time'] = pd.to_datetime(data['Event Time'], errors='coerce')\n"
     ]
    },
    {
     "name": "stdout",
     "output_type": "stream",
     "text": [
      "📂 Processing file: 1jan.csv\n"
     ]
    },
    {
     "name": "stderr",
     "output_type": "stream",
     "text": [
      "C:\\Users\\hmaba\\AppData\\Local\\Temp\\ipykernel_4016\\90506033.py:30: UserWarning: Could not infer format, so each element will be parsed individually, falling back to `dateutil`. To ensure parsing is consistent and as-expected, please specify a format.\n",
      "  data['Event Time'] = pd.to_datetime(data['Event Time'], errors='coerce')\n"
     ]
    },
    {
     "name": "stdout",
     "output_type": "stream",
     "text": [
      "📂 Processing file: 20jan.csv\n"
     ]
    },
    {
     "name": "stderr",
     "output_type": "stream",
     "text": [
      "C:\\Users\\hmaba\\AppData\\Local\\Temp\\ipykernel_4016\\90506033.py:30: UserWarning: Could not infer format, so each element will be parsed individually, falling back to `dateutil`. To ensure parsing is consistent and as-expected, please specify a format.\n",
      "  data['Event Time'] = pd.to_datetime(data['Event Time'], errors='coerce')\n"
     ]
    },
    {
     "name": "stdout",
     "output_type": "stream",
     "text": [
      "📂 Processing file: 21jan.csv\n"
     ]
    },
    {
     "name": "stderr",
     "output_type": "stream",
     "text": [
      "C:\\Users\\hmaba\\AppData\\Local\\Temp\\ipykernel_4016\\90506033.py:30: UserWarning: Could not infer format, so each element will be parsed individually, falling back to `dateutil`. To ensure parsing is consistent and as-expected, please specify a format.\n",
      "  data['Event Time'] = pd.to_datetime(data['Event Time'], errors='coerce')\n"
     ]
    },
    {
     "name": "stdout",
     "output_type": "stream",
     "text": [
      "📂 Processing file: 22jan.csv\n"
     ]
    },
    {
     "name": "stderr",
     "output_type": "stream",
     "text": [
      "C:\\Users\\hmaba\\AppData\\Local\\Temp\\ipykernel_4016\\90506033.py:30: UserWarning: Could not infer format, so each element will be parsed individually, falling back to `dateutil`. To ensure parsing is consistent and as-expected, please specify a format.\n",
      "  data['Event Time'] = pd.to_datetime(data['Event Time'], errors='coerce')\n"
     ]
    },
    {
     "name": "stdout",
     "output_type": "stream",
     "text": [
      "📂 Processing file: 23jan.csv\n"
     ]
    },
    {
     "name": "stderr",
     "output_type": "stream",
     "text": [
      "C:\\Users\\hmaba\\AppData\\Local\\Temp\\ipykernel_4016\\90506033.py:30: UserWarning: Could not infer format, so each element will be parsed individually, falling back to `dateutil`. To ensure parsing is consistent and as-expected, please specify a format.\n",
      "  data['Event Time'] = pd.to_datetime(data['Event Time'], errors='coerce')\n"
     ]
    },
    {
     "name": "stdout",
     "output_type": "stream",
     "text": [
      "📂 Processing file: 24jan.csv\n"
     ]
    },
    {
     "name": "stderr",
     "output_type": "stream",
     "text": [
      "C:\\Users\\hmaba\\AppData\\Local\\Temp\\ipykernel_4016\\90506033.py:30: UserWarning: Could not infer format, so each element will be parsed individually, falling back to `dateutil`. To ensure parsing is consistent and as-expected, please specify a format.\n",
      "  data['Event Time'] = pd.to_datetime(data['Event Time'], errors='coerce')\n"
     ]
    },
    {
     "name": "stdout",
     "output_type": "stream",
     "text": [
      "📂 Processing file: 25jan.csv\n"
     ]
    },
    {
     "name": "stderr",
     "output_type": "stream",
     "text": [
      "C:\\Users\\hmaba\\AppData\\Local\\Temp\\ipykernel_4016\\90506033.py:30: UserWarning: Could not infer format, so each element will be parsed individually, falling back to `dateutil`. To ensure parsing is consistent and as-expected, please specify a format.\n",
      "  data['Event Time'] = pd.to_datetime(data['Event Time'], errors='coerce')\n"
     ]
    },
    {
     "name": "stdout",
     "output_type": "stream",
     "text": [
      "📂 Processing file: 26jan.csv\n"
     ]
    },
    {
     "name": "stderr",
     "output_type": "stream",
     "text": [
      "C:\\Users\\hmaba\\AppData\\Local\\Temp\\ipykernel_4016\\90506033.py:30: UserWarning: Could not infer format, so each element will be parsed individually, falling back to `dateutil`. To ensure parsing is consistent and as-expected, please specify a format.\n",
      "  data['Event Time'] = pd.to_datetime(data['Event Time'], errors='coerce')\n"
     ]
    },
    {
     "name": "stdout",
     "output_type": "stream",
     "text": [
      "📂 Processing file: 27jan.csv\n"
     ]
    },
    {
     "name": "stderr",
     "output_type": "stream",
     "text": [
      "C:\\Users\\hmaba\\AppData\\Local\\Temp\\ipykernel_4016\\90506033.py:30: UserWarning: Could not infer format, so each element will be parsed individually, falling back to `dateutil`. To ensure parsing is consistent and as-expected, please specify a format.\n",
      "  data['Event Time'] = pd.to_datetime(data['Event Time'], errors='coerce')\n"
     ]
    },
    {
     "name": "stdout",
     "output_type": "stream",
     "text": [
      "📂 Processing file: 28jan.csv\n"
     ]
    },
    {
     "name": "stderr",
     "output_type": "stream",
     "text": [
      "C:\\Users\\hmaba\\AppData\\Local\\Temp\\ipykernel_4016\\90506033.py:30: UserWarning: Could not infer format, so each element will be parsed individually, falling back to `dateutil`. To ensure parsing is consistent and as-expected, please specify a format.\n",
      "  data['Event Time'] = pd.to_datetime(data['Event Time'], errors='coerce')\n"
     ]
    },
    {
     "name": "stdout",
     "output_type": "stream",
     "text": [
      "📂 Processing file: 29jan.csv\n"
     ]
    },
    {
     "name": "stderr",
     "output_type": "stream",
     "text": [
      "C:\\Users\\hmaba\\AppData\\Local\\Temp\\ipykernel_4016\\90506033.py:30: UserWarning: Could not infer format, so each element will be parsed individually, falling back to `dateutil`. To ensure parsing is consistent and as-expected, please specify a format.\n",
      "  data['Event Time'] = pd.to_datetime(data['Event Time'], errors='coerce')\n"
     ]
    },
    {
     "name": "stdout",
     "output_type": "stream",
     "text": [
      "📂 Processing file: 2jan.csv\n"
     ]
    },
    {
     "name": "stderr",
     "output_type": "stream",
     "text": [
      "C:\\Users\\hmaba\\AppData\\Local\\Temp\\ipykernel_4016\\90506033.py:30: UserWarning: Could not infer format, so each element will be parsed individually, falling back to `dateutil`. To ensure parsing is consistent and as-expected, please specify a format.\n",
      "  data['Event Time'] = pd.to_datetime(data['Event Time'], errors='coerce')\n"
     ]
    },
    {
     "name": "stdout",
     "output_type": "stream",
     "text": [
      "📂 Processing file: 30jan.csv\n"
     ]
    },
    {
     "name": "stderr",
     "output_type": "stream",
     "text": [
      "C:\\Users\\hmaba\\AppData\\Local\\Temp\\ipykernel_4016\\90506033.py:30: UserWarning: Could not infer format, so each element will be parsed individually, falling back to `dateutil`. To ensure parsing is consistent and as-expected, please specify a format.\n",
      "  data['Event Time'] = pd.to_datetime(data['Event Time'], errors='coerce')\n"
     ]
    },
    {
     "name": "stdout",
     "output_type": "stream",
     "text": [
      "📂 Processing file: 31jan.csv\n"
     ]
    },
    {
     "name": "stderr",
     "output_type": "stream",
     "text": [
      "C:\\Users\\hmaba\\AppData\\Local\\Temp\\ipykernel_4016\\90506033.py:30: UserWarning: Could not infer format, so each element will be parsed individually, falling back to `dateutil`. To ensure parsing is consistent and as-expected, please specify a format.\n",
      "  data['Event Time'] = pd.to_datetime(data['Event Time'], errors='coerce')\n"
     ]
    },
    {
     "name": "stdout",
     "output_type": "stream",
     "text": [
      "📂 Processing file: 3jan.csv\n"
     ]
    },
    {
     "name": "stderr",
     "output_type": "stream",
     "text": [
      "C:\\Users\\hmaba\\AppData\\Local\\Temp\\ipykernel_4016\\90506033.py:30: UserWarning: Could not infer format, so each element will be parsed individually, falling back to `dateutil`. To ensure parsing is consistent and as-expected, please specify a format.\n",
      "  data['Event Time'] = pd.to_datetime(data['Event Time'], errors='coerce')\n"
     ]
    },
    {
     "name": "stdout",
     "output_type": "stream",
     "text": [
      "📂 Processing file: 6jan.csv\n"
     ]
    },
    {
     "name": "stderr",
     "output_type": "stream",
     "text": [
      "C:\\Users\\hmaba\\AppData\\Local\\Temp\\ipykernel_4016\\90506033.py:30: UserWarning: Could not infer format, so each element will be parsed individually, falling back to `dateutil`. To ensure parsing is consistent and as-expected, please specify a format.\n",
      "  data['Event Time'] = pd.to_datetime(data['Event Time'], errors='coerce')\n"
     ]
    },
    {
     "name": "stdout",
     "output_type": "stream",
     "text": [
      "📂 Processing file: 7jan.csv\n"
     ]
    },
    {
     "name": "stderr",
     "output_type": "stream",
     "text": [
      "C:\\Users\\hmaba\\AppData\\Local\\Temp\\ipykernel_4016\\90506033.py:30: UserWarning: Could not infer format, so each element will be parsed individually, falling back to `dateutil`. To ensure parsing is consistent and as-expected, please specify a format.\n",
      "  data['Event Time'] = pd.to_datetime(data['Event Time'], errors='coerce')\n"
     ]
    },
    {
     "name": "stdout",
     "output_type": "stream",
     "text": [
      "📂 Processing file: 9jan.csv\n"
     ]
    },
    {
     "name": "stderr",
     "output_type": "stream",
     "text": [
      "C:\\Users\\hmaba\\AppData\\Local\\Temp\\ipykernel_4016\\90506033.py:30: UserWarning: Could not infer format, so each element will be parsed individually, falling back to `dateutil`. To ensure parsing is consistent and as-expected, please specify a format.\n",
      "  data['Event Time'] = pd.to_datetime(data['Event Time'], errors='coerce')\n"
     ]
    },
    {
     "name": "stdout",
     "output_type": "stream",
     "text": [
      "\n",
      "✅ All January files merged successfully and saved to: ./PVC-I (Jan, Feb, Mar) EVENTS/All_Jan_Combined.csv\n"
     ]
    }
   ],
   "source": [
    "import pandas as pd\n",
    "import glob\n",
    "import os\n",
    "\n",
    "# Directory where your CSVs are stored\n",
    "folder_path = \"./PVC-I (Jan, Feb, Mar) EVENTS/\"\n",
    "\n",
    "# Find all January CSV files (filenames like 01jan.csv, 02jan.csv, etc.)\n",
    "csv_files = glob.glob(os.path.join(folder_path, \"*jan.csv\"))\n",
    "\n",
    "all_data = []\n",
    "\n",
    "for file in csv_files:\n",
    "    print(f\"📂 Processing file: {os.path.basename(file)}\")\n",
    "\n",
    "    # Read CSV while skipping metadata rows\n",
    "    data = pd.read_csv(file, skiprows=6, on_bad_lines='skip')\n",
    "\n",
    "    # Drop the extra empty column if it exists\n",
    "    if len(data.columns) == 10:\n",
    "        data = data.iloc[:, :9]  # keep only first 9 columns\n",
    "\n",
    "    # Rename columns\n",
    "    data.columns = [\n",
    "        \"Event Time\", \"Location Tag\", \"Source\", \"Condition\", \"Action\",\n",
    "        \"Priority\", \"Description\", \"Value\", \"Units\"\n",
    "    ]\n",
    "\n",
    "    # Convert 'Event Time' column to datetime\n",
    "    data['Event Time'] = pd.to_datetime(data['Event Time'], errors='coerce')\n",
    "\n",
    "    # Sort by datetime\n",
    "    data = data.sort_values(by='Event Time')\n",
    "\n",
    "    # Format datetime into AM/PM format\n",
    "    data['Event Time'] = data['Event Time'].dt.strftime('%m/%d/%Y %I:%M:%S %p')\n",
    "\n",
    "    # Reset index\n",
    "    data = data.reset_index(drop=True)\n",
    "\n",
    "    # Add processed data to list\n",
    "    all_data.append(data)\n",
    "\n",
    "# Merge all January DataFrames\n",
    "merged_data = pd.concat(all_data, ignore_index=True)\n",
    "\n",
    "# Save the combined result to a new CSV\n",
    "output_file = os.path.join(folder_path, \"All_Jan_Combined.csv\")\n",
    "merged_data.to_csv(output_file, index=False)\n",
    "\n",
    "print(f\"\\n✅ All January files merged successfully and saved to: {output_file}\")\n"
   ]
  },
  {
   "cell_type": "code",
   "execution_count": 50,
   "id": "de90ae67-fdc9-485b-b057-33ca3189d548",
   "metadata": {},
   "outputs": [
    {
     "name": "stderr",
     "output_type": "stream",
     "text": [
      "C:\\Users\\hmaba\\AppData\\Local\\Temp\\ipykernel_4016\\597434298.py:1: UserWarning: Could not infer format, so each element will be parsed individually, falling back to `dateutil`. To ensure parsing is consistent and as-expected, please specify a format.\n",
      "  merged_data['Event Time'] = pd.to_datetime(merged_data['Event Time'])\n"
     ]
    }
   ],
   "source": [
    "merged_data['Event Time'] = pd.to_datetime(merged_data['Event Time'])\n",
    "merged_data = merged_data.sort_values(by='Event Time').reset_index(drop=True)\n",
    "merged_data['Event Time'] = merged_data['Event Time'].dt.strftime('%m/%d/%Y %I:%M:%S %p')\n",
    "merged_data.to_csv(output_file, index=False)\n"
   ]
  },
  {
   "cell_type": "code",
   "execution_count": 59,
   "id": "91b3f5f7-e976-4691-876e-6b916f15fd9c",
   "metadata": {},
   "outputs": [
    {
     "name": "stdout",
     "output_type": "stream",
     "text": [
      "           Event Time Location Tag    Source                      Condition  \\\n",
      "0 2025-01-01 00:00:00   SERVER_PVC  DAILY RP                       PERIODIC   \n",
      "1 2025-01-01 00:00:03         1600    PI1601                         PVLOLO   \n",
      "2 2025-01-01 00:00:04         1500    TI1507                          PVLOW   \n",
      "3 2025-01-01 00:00:05   IOLINK04_1  AIOR-704  OP Fail in circuit/field wire   \n",
      "4 2025-01-01 00:00:07         1200   TIC1203                         PVHIHI   \n",
      "\n",
      "  Action Priority              Description         Value    Units  Unnamed: 9  \\\n",
      "0    NaN     J 00  Report Periodic Request            12      NaN         NaN   \n",
      "1    NaN     J 00            HE1601 OUTLET      0.239591  kg/cm2G         NaN   \n",
      "2    ACK      NaN            TW1501 BOTTOM           NaN      NaN         NaN   \n",
      "3     OK     H 15                      NaN  Channel_18_B      NaN         NaN   \n",
      "4    NaN     H 00          HE1203 D/S TEMP       88.7875        C         NaN   \n",
      "\n",
      "   Unnamed: 10    Unnamed: 11    Unnamed: 12  \n",
      "0          NaN            NaN            NaN  \n",
      "1          NaN            NaN            NaN  \n",
      "2          NaN            NaN            NaN  \n",
      "3          NaN  Unique Source  Blank Actions  \n",
      "4          NaN           1076         334468  \n"
     ]
    }
   ],
   "source": [
    "import pandas as pd\n",
    "\n",
    "# Read specific sheet from Excel file\n",
    "jan_df = pd.read_excel('./PVC-I (Jan, Feb, Mar) EVENTS/all_jan_combined.xlsx', sheet_name='All_Jan_Combined')\n",
    "feb_df = pd.read_excel('./PVC-I (Jan, Feb, Mar) EVENTS/all_jan_combined.xlsx', sheet_name='All_Feb_Combined')\n",
    "march_df = pd.read_excel('./PVC-I (Jan, Feb, Mar) EVENTS/all_jan_combined.xlsx', sheet_name='All_March_Combined')\n",
    "# Display the first few rows\n",
    "print(jan_df.head())"
   ]
  },
  {
   "cell_type": "code",
   "execution_count": null,
   "id": "7121ff4e-ac19-4fae-9041-48d50861cd56",
   "metadata": {},
   "outputs": [],
   "source": []
  },
  {
   "cell_type": "code",
   "execution_count": 60,
   "id": "64e118b6-b535-4e84-8e6f-b2f702cbc15a",
   "metadata": {},
   "outputs": [
    {
     "name": "stdout",
     "output_type": "stream",
     "text": [
      "Number of unique values: 1075\n",
      "Number of unique values: 1092\n",
      "Number of unique values: 969\n",
      "Final Number of unique values: 3136\n"
     ]
    }
   ],
   "source": [
    "# Count unique values (excluding NaN)\n",
    "jan_df_unique_count = jan_df['Source'].nunique()\n",
    "print(f\"Number of unique values: {jan_df_unique_count}\")\n",
    "\n",
    "# Count unique values (excluding NaN)\n",
    "feb_df_unique_count = feb_df['Source'].nunique()\n",
    "print(f\"Number of unique values: {feb_df_unique_count}\")\n",
    "\n",
    "# Count unique values (excluding NaN)\n",
    "march_df_unique_count = march_df['Source'].nunique()\n",
    "print(f\"Number of unique values: {march_df_unique_count}\")\n",
    "\n",
    "\n",
    "\n",
    "final = jan_df_unique_count + feb_df_unique_count + march_df_unique_count\n",
    "print(f\"Final Number of unique values: {final}\")"
   ]
  },
  {
   "cell_type": "code",
   "execution_count": 61,
   "id": "7587e2fd-6bef-4547-8a70-cf0d71061248",
   "metadata": {},
   "outputs": [
    {
     "name": "stdout",
     "output_type": "stream",
     "text": [
      "Number of blanks/NaN: 334468\n",
      "Number of blanks/NaN: 269115\n",
      "Number of blanks/NaN: 153681\n",
      "Final Number of unique values: 757264\n"
     ]
    }
   ],
   "source": [
    "jan_df_alarm_count = jan_df['Action'].isna().sum()\n",
    "print(f\"Number of blanks/NaN: {jan_df_alarm_count}\")\n",
    "\n",
    "feb_df_alarm_count = feb_df['Action'].isna().sum()\n",
    "print(f\"Number of blanks/NaN: {feb_df_alarm_count}\")\n",
    "\n",
    "march_df_alarm_count = march_df['Action'].isna().sum()\n",
    "print(f\"Number of blanks/NaN: {march_df_alarm_count}\")\n",
    "\n",
    "final_alarm_count = jan_df_alarm_count + feb_df_alarm_count + march_df_alarm_count\n",
    "print(f\"Final Number of unique values: {final_alarm_count}\")"
   ]
  },
  {
   "cell_type": "code",
   "execution_count": null,
   "id": "57f352ce-25ed-407c-8345-1b65e910909c",
   "metadata": {},
   "outputs": [],
   "source": []
  },
  {
   "cell_type": "markdown",
   "id": "f4ee6e1e-681d-45b6-87b9-cf8b23fdecff",
   "metadata": {},
   "source": [
    "# Final Calculations"
   ]
  },
  {
   "cell_type": "code",
   "execution_count": 62,
   "id": "eb7788ff-e872-4398-ba81-6016474c1860",
   "metadata": {},
   "outputs": [],
   "source": [
    "merged_df = pd.concat([jan_df, feb_df, march_df], ignore_index=True)"
   ]
  },
  {
   "cell_type": "code",
   "execution_count": 65,
   "id": "f117dd74-2e3c-4471-85a8-cb4e56fc9fe7",
   "metadata": {},
   "outputs": [
    {
     "name": "stdout",
     "output_type": "stream",
     "text": [
      "Number of unique Sources: 1230\n"
     ]
    }
   ],
   "source": [
    "merged_df_unique_count = merged_df['Source'].nunique()\n",
    "print(f\"Number of unique Sources: {merged_df_unique_count}\")"
   ]
  },
  {
   "cell_type": "code",
   "execution_count": 66,
   "id": "e443d9b7-7590-4531-a7de-a8e84a507d7f",
   "metadata": {},
   "outputs": [
    {
     "name": "stdout",
     "output_type": "stream",
     "text": [
      "Number of Unique Alarms: 757264\n"
     ]
    }
   ],
   "source": [
    "merged_df_alarm_count = merged_df['Action'].isna().sum()\n",
    "print(f\"Number of Unique Alarms: {merged_df_alarm_count}\")"
   ]
  },
  {
   "cell_type": "code",
   "execution_count": 68,
   "id": "f536ab98-8862-4bb6-ad0f-5f93e44e4510",
   "metadata": {},
   "outputs": [
    {
     "name": "stdout",
     "output_type": "stream",
     "text": [
      "Total rows: 903354\n",
      "Total alarms (Action is blank/NaN): 757264\n",
      "\n",
      "Alarms per day:\n",
      "Date\n",
      "2025-01-01    18482\n",
      "2025-01-02    13287\n",
      "2025-01-03    16523\n",
      "2025-01-04    13248\n",
      "2025-01-05    11355\n",
      "              ...  \n",
      "2025-03-13     3866\n",
      "2025-03-14    11363\n",
      "2025-03-15    12078\n",
      "2025-03-16    10719\n",
      "2025-03-17     5171\n",
      "Length: 75, dtype: int64\n",
      "\n",
      "--- RESULT ---\n",
      "Average Alarms per Day: 10096.85\n",
      "\n",
      "Total unique days: 75\n",
      "Max alarms in a day: 30374\n",
      "Min alarms in a day: 738\n",
      "Date range: 2025-01-01 to 2025-03-17\n"
     ]
    }
   ],
   "source": [
    "import pandas as pd\n",
    "\n",
    "\n",
    "# --- Calculate Average Alarms per Day ---\n",
    "\n",
    "# Replace these with your actual column names\n",
    "event_date_column = 'Event Time'  # Column with dates like \"3/1/2025 0:00\"\n",
    "action_column = 'Action'  # Column where blank/NaN means it's an alarm\n",
    "\n",
    "# Convert event date to datetime\n",
    "merged_df[event_date_column] = pd.to_datetime(merged_df[event_date_column])\n",
    "\n",
    "# Extract just the date (without time)\n",
    "merged_df['Date'] = merged_df[event_date_column].dt.date\n",
    "\n",
    "# Filter rows where Action is NaN/blank (these are alarms)\n",
    "alarms_df = merged_df[merged_df[action_column].isna()]\n",
    "\n",
    "print(f\"Total rows: {len(merged_df)}\")\n",
    "print(f\"Total alarms (Action is blank/NaN): {len(alarms_df)}\")\n",
    "\n",
    "# Count alarms per day\n",
    "alarms_per_day = alarms_df.groupby('Date').size()\n",
    "\n",
    "print(f\"\\nAlarms per day:\\n{alarms_per_day}\")\n",
    "\n",
    "# Calculate average alarms per day\n",
    "average_alarms_per_day = alarms_per_day.mean()\n",
    "\n",
    "print(f\"\\n--- RESULT ---\")\n",
    "print(f\"Average Alarms per Day: {average_alarms_per_day:.2f}\")\n",
    "\n",
    "# Additional statistics\n",
    "print(f\"\\nTotal unique days: {len(alarms_per_day)}\")\n",
    "print(f\"Max alarms in a day: {alarms_per_day.max()}\")\n",
    "print(f\"Min alarms in a day: {alarms_per_day.min()}\")\n",
    "print(f\"Date range: {alarms_df['Date'].min()} to {alarms_df['Date'].max()}\")"
   ]
  },
  {
   "cell_type": "code",
   "execution_count": 69,
   "id": "d6b9366c-aa52-4897-8969-b2c1dc72188a",
   "metadata": {},
   "outputs": [
    {
     "name": "stdout",
     "output_type": "stream",
     "text": [
      "\n",
      "--- DAYS EXCEEDING LIMIT ---\n",
      "Limit: 288 alarms per day\n",
      "Days exceeding limit: 75\n",
      "Total days: 75\n",
      "Percentage of days exceeding limit: 100.00%\n",
      "\n",
      "Days that exceeded 288 alarms:\n",
      "Date\n",
      "2025-01-01    18482\n",
      "2025-01-02    13287\n",
      "2025-01-03    16523\n",
      "2025-01-04    13248\n",
      "2025-01-05    11355\n",
      "              ...  \n",
      "2025-03-13     3866\n",
      "2025-03-14    11363\n",
      "2025-03-15    12078\n",
      "2025-03-16    10719\n",
      "2025-03-17     5171\n",
      "Length: 75, dtype: int64\n"
     ]
    }
   ],
   "source": [
    "# --- Calculate % of days exceeding 288 alarms ---\n",
    "\n",
    "limit = 288\n",
    "\n",
    "# Count days where alarms exceed the limit\n",
    "days_exceeding_limit = (alarms_per_day > limit).sum()\n",
    "total_days = len(alarms_per_day)\n",
    "\n",
    "# Calculate percentage\n",
    "percentage_exceeding = (days_exceeding_limit / total_days) * 100\n",
    "\n",
    "print(f\"\\n--- DAYS EXCEEDING LIMIT ---\")\n",
    "print(f\"Limit: {limit} alarms per day\")\n",
    "print(f\"Days exceeding limit: {days_exceeding_limit}\")\n",
    "print(f\"Total days: {total_days}\")\n",
    "print(f\"Percentage of days exceeding limit: {percentage_exceeding:.2f}%\")\n",
    "\n",
    "# Show which days exceeded the limit\n",
    "days_over_limit = alarms_per_day[alarms_per_day > limit]\n",
    "if len(days_over_limit) > 0:\n",
    "    print(f\"\\nDays that exceeded {limit} alarms:\")\n",
    "    print(days_over_limit)"
   ]
  },
  {
   "cell_type": "code",
   "execution_count": null,
   "id": "ac1b7b04-5643-46ff-a1f9-ffc2f1c1a073",
   "metadata": {},
   "outputs": [],
   "source": []
  }
 ],
 "metadata": {
  "kernelspec": {
   "display_name": "Python 3 (ipykernel)",
   "language": "python",
   "name": "python3"
  },
  "language_info": {
   "codemirror_mode": {
    "name": "ipython",
    "version": 3
   },
   "file_extension": ".py",
   "mimetype": "text/x-python",
   "name": "python",
   "nbconvert_exporter": "python",
   "pygments_lexer": "ipython3",
   "version": "3.11.0"
  }
 },
 "nbformat": 4,
 "nbformat_minor": 5
}
